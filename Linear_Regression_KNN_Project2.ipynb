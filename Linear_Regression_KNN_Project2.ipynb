{
  "nbformat": 4,
  "nbformat_minor": 0,
  "metadata": {
    "colab": {
      "provenance": [],
      "authorship_tag": "ABX9TyOS6XWkGKnK6ZkS4la5eRzG",
      "include_colab_link": true
    },
    "kernelspec": {
      "name": "python3",
      "display_name": "Python 3"
    },
    "language_info": {
      "name": "python"
    }
  },
  "cells": [
    {
      "cell_type": "markdown",
      "metadata": {
        "id": "view-in-github",
        "colab_type": "text"
      },
      "source": [
        "<a href=\"https://colab.research.google.com/github/rajeshbabu1990/Data_science/blob/main/Linear_Regression_KNN_Project2.ipynb\" target=\"_parent\"><img src=\"https://colab.research.google.com/assets/colab-badge.svg\" alt=\"Open In Colab\"/></a>"
      ]
    },
    {
      "cell_type": "markdown",
      "source": [
        "# Importing Library"
      ],
      "metadata": {
        "id": "89bPBdYKQmst"
      }
    },
    {
      "cell_type": "code",
      "execution_count": 11,
      "metadata": {
        "colab": {
          "base_uri": "https://localhost:8080/"
        },
        "id": "0mmkHVf5lAiv",
        "outputId": "4db6e260-8902-4d21-8ba6-61d34f1acf45"
      },
      "outputs": [
        {
          "output_type": "stream",
          "name": "stdout",
          "text": [
            "Drive already mounted at /content/drive; to attempt to forcibly remount, call drive.mount(\"/content/drive\", force_remount=True).\n"
          ]
        }
      ],
      "source": [
        "#Import the essential libraries\n",
        "\n",
        "import numpy as np\n",
        "import pandas as pd\n",
        "import matplotlib.pyplot as plt\n",
        "import seaborn as sns\n",
        "from google.colab import drive\n",
        "drive.mount('/content/drive')"
      ]
    },
    {
      "cell_type": "markdown",
      "source": [
        "-------"
      ],
      "metadata": {
        "id": "6Jl4jImI-iiX"
      }
    },
    {
      "cell_type": "markdown",
      "source": [
        "#Data Loading"
      ],
      "metadata": {
        "id": "U7vjUNTzlgnW"
      }
    },
    {
      "cell_type": "code",
      "source": [
        "file_path='/content/drive/My Drive/raw_house_data.csv'\n",
        "data=pd.read_csv(file_path)\n",
        "data.shape"
      ],
      "metadata": {
        "colab": {
          "base_uri": "https://localhost:8080/"
        },
        "id": "qOuaFJxVlfey",
        "outputId": "d92605bc-7f48-4a6e-f256-0e6cce23a2f0"
      },
      "execution_count": 12,
      "outputs": [
        {
          "output_type": "execute_result",
          "data": {
            "text/plain": [
              "(5000, 16)"
            ]
          },
          "metadata": {},
          "execution_count": 12
        }
      ]
    },
    {
      "cell_type": "markdown",
      "source": [
        "\n",
        "\n",
        "#Data preprocessing"
      ],
      "metadata": {
        "id": "W4OafiF3QlPe"
      }
    },
    {
      "cell_type": "code",
      "source": [
        "# drop the rows where 3 features are missing\n",
        "final_val=data.dropna(thresh=len(data.columns) - 3)\n",
        "final_val.shape"
      ],
      "metadata": {
        "colab": {
          "base_uri": "https://localhost:8080/"
        },
        "id": "6Eh6Pycs2gVr",
        "outputId": "b87c7f89-7c47-4937-c9bd-811e7e01fc8f"
      },
      "execution_count": 13,
      "outputs": [
        {
          "output_type": "execute_result",
          "data": {
            "text/plain": [
              "(4996, 16)"
            ]
          },
          "metadata": {},
          "execution_count": 13
        }
      ]
    },
    {
      "cell_type": "code",
      "source": [
        "final_val = final_val.dropna(subset=['sqrt_ft'])"
      ],
      "metadata": {
        "id": "CwNFBKcPH25c"
      },
      "execution_count": 14,
      "outputs": []
    },
    {
      "cell_type": "code",
      "source": [
        "final_val.isnull().sum()"
      ],
      "metadata": {
        "id": "PwM3uS1GGykm"
      },
      "execution_count": null,
      "outputs": []
    },
    {
      "cell_type": "code",
      "source": [
        "final_val.fillna(value=0,inplace=True)"
      ],
      "metadata": {
        "id": "wkkVdPaHJPay"
      },
      "execution_count": 16,
      "outputs": []
    },
    {
      "cell_type": "markdown",
      "source": [
        "## Number of rooms calculation"
      ],
      "metadata": {
        "id": "fRt1t9YgREK9"
      }
    },
    {
      "cell_type": "code",
      "source": [
        "# Number of rooms calculated in new column Number of Rooms\n",
        "final_val.loc[:,\"Number of Rooms\"]=final_val['bedrooms']+final_val['bathrooms']\n",
        "final_val.loc[:,\"Number of Rooms\"]\n",
        "\n"
      ],
      "metadata": {
        "id": "MbK93RYWuA9v",
        "colab": {
          "base_uri": "https://localhost:8080/",
          "height": 458
        },
        "outputId": "ca151d39-7d70-4f18-e32d-b59a0b28a290"
      },
      "execution_count": 17,
      "outputs": [
        {
          "output_type": "execute_result",
          "data": {
            "text/plain": [
              "0       23.0\n",
              "1        4.0\n",
              "3       12.0\n",
              "4       10.0\n",
              "5        7.0\n",
              "        ... \n",
              "4995     8.0\n",
              "4996     7.0\n",
              "4997     5.0\n",
              "4998     8.0\n",
              "4999     8.0\n",
              "Name: Number of Rooms, Length: 4944, dtype: float64"
            ],
            "text/html": [
              "<div>\n",
              "<style scoped>\n",
              "    .dataframe tbody tr th:only-of-type {\n",
              "        vertical-align: middle;\n",
              "    }\n",
              "\n",
              "    .dataframe tbody tr th {\n",
              "        vertical-align: top;\n",
              "    }\n",
              "\n",
              "    .dataframe thead th {\n",
              "        text-align: right;\n",
              "    }\n",
              "</style>\n",
              "<table border=\"1\" class=\"dataframe\">\n",
              "  <thead>\n",
              "    <tr style=\"text-align: right;\">\n",
              "      <th></th>\n",
              "      <th>Number of Rooms</th>\n",
              "    </tr>\n",
              "  </thead>\n",
              "  <tbody>\n",
              "    <tr>\n",
              "      <th>0</th>\n",
              "      <td>23.0</td>\n",
              "    </tr>\n",
              "    <tr>\n",
              "      <th>1</th>\n",
              "      <td>4.0</td>\n",
              "    </tr>\n",
              "    <tr>\n",
              "      <th>3</th>\n",
              "      <td>12.0</td>\n",
              "    </tr>\n",
              "    <tr>\n",
              "      <th>4</th>\n",
              "      <td>10.0</td>\n",
              "    </tr>\n",
              "    <tr>\n",
              "      <th>5</th>\n",
              "      <td>7.0</td>\n",
              "    </tr>\n",
              "    <tr>\n",
              "      <th>...</th>\n",
              "      <td>...</td>\n",
              "    </tr>\n",
              "    <tr>\n",
              "      <th>4995</th>\n",
              "      <td>8.0</td>\n",
              "    </tr>\n",
              "    <tr>\n",
              "      <th>4996</th>\n",
              "      <td>7.0</td>\n",
              "    </tr>\n",
              "    <tr>\n",
              "      <th>4997</th>\n",
              "      <td>5.0</td>\n",
              "    </tr>\n",
              "    <tr>\n",
              "      <th>4998</th>\n",
              "      <td>8.0</td>\n",
              "    </tr>\n",
              "    <tr>\n",
              "      <th>4999</th>\n",
              "      <td>8.0</td>\n",
              "    </tr>\n",
              "  </tbody>\n",
              "</table>\n",
              "<p>4944 rows × 1 columns</p>\n",
              "</div><br><label><b>dtype:</b> float64</label>"
            ]
          },
          "metadata": {},
          "execution_count": 17
        }
      ]
    },
    {
      "cell_type": "code",
      "execution_count": 18,
      "metadata": {
        "id": "ea0f226f"
      },
      "outputs": [],
      "source": [
        "final_val[\"House_Age\"] = pd.Timestamp.now().year - final_val[\"year_built\"]\n",
        "final_val = final_val.drop(['year_built'], axis=1)"
      ]
    },
    {
      "cell_type": "code",
      "source": [
        "final_val.shape\n"
      ],
      "metadata": {
        "colab": {
          "base_uri": "https://localhost:8080/"
        },
        "id": "4U5g374z8Nbp",
        "outputId": "5f640c2f-c9b5-4f43-afec-df026e0331d1"
      },
      "execution_count": 19,
      "outputs": [
        {
          "output_type": "execute_result",
          "data": {
            "text/plain": [
              "(4944, 17)"
            ]
          },
          "metadata": {},
          "execution_count": 19
        }
      ]
    },
    {
      "cell_type": "code",
      "source": [
        "final_val.head()"
      ],
      "metadata": {
        "id": "zzcenRXM157j",
        "colab": {
          "base_uri": "https://localhost:8080/",
          "height": 293
        },
        "outputId": "795a7a22-f84a-46ef-b118-1f58a2f51435"
      },
      "execution_count": 20,
      "outputs": [
        {
          "output_type": "execute_result",
          "data": {
            "text/plain": [
              "        MLS  sold_price  zipcode   longitude   latitude  lot_acres     taxes  \\\n",
              "0  21530491   5300000.0    85637 -110.378200  31.356362    2154.00   5272.00   \n",
              "1  21529082   4200000.0    85646 -111.045371  31.594213    1707.00  10422.36   \n",
              "3  21919321   4500000.0    85646 -111.035925  31.645878     636.67   8418.58   \n",
              "4  21306357   3411450.0    85750 -110.813768  32.285162       3.21  15393.00   \n",
              "5  21528016   3250000.0    85718 -110.910593  32.339090       1.67  27802.84   \n",
              "\n",
              "   bedrooms  bathrooms  sqrt_ft  garage  \\\n",
              "0        13       10.0  10500.0     0.0   \n",
              "1         2        2.0   7300.0     0.0   \n",
              "3         7        5.0   9019.0     4.0   \n",
              "4         4        6.0   6396.0     3.0   \n",
              "5         3        4.0   6842.0     3.0   \n",
              "\n",
              "                                    kitchen_features  fireplaces  \\\n",
              "0            Dishwasher, Freezer, Refrigerator, Oven         6.0   \n",
              "1                       Dishwasher, Garbage Disposal         5.0   \n",
              "3  Dishwasher, Double Sink, Pantry: Butler, Refri...         4.0   \n",
              "4  Dishwasher, Garbage Disposal, Refrigerator, Mi...         5.0   \n",
              "5  Dishwasher, Garbage Disposal, Refrigerator, Mi...         5.0   \n",
              "\n",
              "                 floor_covering  HOA  Number of Rooms  House_Age  \n",
              "0            Mexican Tile, Wood    0             23.0         84  \n",
              "1          Natural Stone, Other    0              4.0         28  \n",
              "3  Ceramic Tile, Laminate, Wood    0             12.0         95  \n",
              "4              Carpet, Concrete   55             10.0         30  \n",
              "5    Natural Stone, Wood, Other  422              7.0         26  "
            ],
            "text/html": [
              "\n",
              "  <div id=\"df-2b8f45b7-1e2e-4aea-bb7e-a4438a84b0e5\" class=\"colab-df-container\">\n",
              "    <div>\n",
              "<style scoped>\n",
              "    .dataframe tbody tr th:only-of-type {\n",
              "        vertical-align: middle;\n",
              "    }\n",
              "\n",
              "    .dataframe tbody tr th {\n",
              "        vertical-align: top;\n",
              "    }\n",
              "\n",
              "    .dataframe thead th {\n",
              "        text-align: right;\n",
              "    }\n",
              "</style>\n",
              "<table border=\"1\" class=\"dataframe\">\n",
              "  <thead>\n",
              "    <tr style=\"text-align: right;\">\n",
              "      <th></th>\n",
              "      <th>MLS</th>\n",
              "      <th>sold_price</th>\n",
              "      <th>zipcode</th>\n",
              "      <th>longitude</th>\n",
              "      <th>latitude</th>\n",
              "      <th>lot_acres</th>\n",
              "      <th>taxes</th>\n",
              "      <th>bedrooms</th>\n",
              "      <th>bathrooms</th>\n",
              "      <th>sqrt_ft</th>\n",
              "      <th>garage</th>\n",
              "      <th>kitchen_features</th>\n",
              "      <th>fireplaces</th>\n",
              "      <th>floor_covering</th>\n",
              "      <th>HOA</th>\n",
              "      <th>Number of Rooms</th>\n",
              "      <th>House_Age</th>\n",
              "    </tr>\n",
              "  </thead>\n",
              "  <tbody>\n",
              "    <tr>\n",
              "      <th>0</th>\n",
              "      <td>21530491</td>\n",
              "      <td>5300000.0</td>\n",
              "      <td>85637</td>\n",
              "      <td>-110.378200</td>\n",
              "      <td>31.356362</td>\n",
              "      <td>2154.00</td>\n",
              "      <td>5272.00</td>\n",
              "      <td>13</td>\n",
              "      <td>10.0</td>\n",
              "      <td>10500.0</td>\n",
              "      <td>0.0</td>\n",
              "      <td>Dishwasher, Freezer, Refrigerator, Oven</td>\n",
              "      <td>6.0</td>\n",
              "      <td>Mexican Tile, Wood</td>\n",
              "      <td>0</td>\n",
              "      <td>23.0</td>\n",
              "      <td>84</td>\n",
              "    </tr>\n",
              "    <tr>\n",
              "      <th>1</th>\n",
              "      <td>21529082</td>\n",
              "      <td>4200000.0</td>\n",
              "      <td>85646</td>\n",
              "      <td>-111.045371</td>\n",
              "      <td>31.594213</td>\n",
              "      <td>1707.00</td>\n",
              "      <td>10422.36</td>\n",
              "      <td>2</td>\n",
              "      <td>2.0</td>\n",
              "      <td>7300.0</td>\n",
              "      <td>0.0</td>\n",
              "      <td>Dishwasher, Garbage Disposal</td>\n",
              "      <td>5.0</td>\n",
              "      <td>Natural Stone, Other</td>\n",
              "      <td>0</td>\n",
              "      <td>4.0</td>\n",
              "      <td>28</td>\n",
              "    </tr>\n",
              "    <tr>\n",
              "      <th>3</th>\n",
              "      <td>21919321</td>\n",
              "      <td>4500000.0</td>\n",
              "      <td>85646</td>\n",
              "      <td>-111.035925</td>\n",
              "      <td>31.645878</td>\n",
              "      <td>636.67</td>\n",
              "      <td>8418.58</td>\n",
              "      <td>7</td>\n",
              "      <td>5.0</td>\n",
              "      <td>9019.0</td>\n",
              "      <td>4.0</td>\n",
              "      <td>Dishwasher, Double Sink, Pantry: Butler, Refri...</td>\n",
              "      <td>4.0</td>\n",
              "      <td>Ceramic Tile, Laminate, Wood</td>\n",
              "      <td>0</td>\n",
              "      <td>12.0</td>\n",
              "      <td>95</td>\n",
              "    </tr>\n",
              "    <tr>\n",
              "      <th>4</th>\n",
              "      <td>21306357</td>\n",
              "      <td>3411450.0</td>\n",
              "      <td>85750</td>\n",
              "      <td>-110.813768</td>\n",
              "      <td>32.285162</td>\n",
              "      <td>3.21</td>\n",
              "      <td>15393.00</td>\n",
              "      <td>4</td>\n",
              "      <td>6.0</td>\n",
              "      <td>6396.0</td>\n",
              "      <td>3.0</td>\n",
              "      <td>Dishwasher, Garbage Disposal, Refrigerator, Mi...</td>\n",
              "      <td>5.0</td>\n",
              "      <td>Carpet, Concrete</td>\n",
              "      <td>55</td>\n",
              "      <td>10.0</td>\n",
              "      <td>30</td>\n",
              "    </tr>\n",
              "    <tr>\n",
              "      <th>5</th>\n",
              "      <td>21528016</td>\n",
              "      <td>3250000.0</td>\n",
              "      <td>85718</td>\n",
              "      <td>-110.910593</td>\n",
              "      <td>32.339090</td>\n",
              "      <td>1.67</td>\n",
              "      <td>27802.84</td>\n",
              "      <td>3</td>\n",
              "      <td>4.0</td>\n",
              "      <td>6842.0</td>\n",
              "      <td>3.0</td>\n",
              "      <td>Dishwasher, Garbage Disposal, Refrigerator, Mi...</td>\n",
              "      <td>5.0</td>\n",
              "      <td>Natural Stone, Wood, Other</td>\n",
              "      <td>422</td>\n",
              "      <td>7.0</td>\n",
              "      <td>26</td>\n",
              "    </tr>\n",
              "  </tbody>\n",
              "</table>\n",
              "</div>\n",
              "    <div class=\"colab-df-buttons\">\n",
              "\n",
              "  <div class=\"colab-df-container\">\n",
              "    <button class=\"colab-df-convert\" onclick=\"convertToInteractive('df-2b8f45b7-1e2e-4aea-bb7e-a4438a84b0e5')\"\n",
              "            title=\"Convert this dataframe to an interactive table.\"\n",
              "            style=\"display:none;\">\n",
              "\n",
              "  <svg xmlns=\"http://www.w3.org/2000/svg\" height=\"24px\" viewBox=\"0 -960 960 960\">\n",
              "    <path d=\"M120-120v-720h720v720H120Zm60-500h600v-160H180v160Zm220 220h160v-160H400v160Zm0 220h160v-160H400v160ZM180-400h160v-160H180v160Zm440 0h160v-160H620v160ZM180-180h160v-160H180v160Zm440 0h160v-160H620v160Z\"/>\n",
              "  </svg>\n",
              "    </button>\n",
              "\n",
              "  <style>\n",
              "    .colab-df-container {\n",
              "      display:flex;\n",
              "      gap: 12px;\n",
              "    }\n",
              "\n",
              "    .colab-df-convert {\n",
              "      background-color: #E8F0FE;\n",
              "      border: none;\n",
              "      border-radius: 50%;\n",
              "      cursor: pointer;\n",
              "      display: none;\n",
              "      fill: #1967D2;\n",
              "      height: 32px;\n",
              "      padding: 0 0 0 0;\n",
              "      width: 32px;\n",
              "    }\n",
              "\n",
              "    .colab-df-convert:hover {\n",
              "      background-color: #E2EBFA;\n",
              "      box-shadow: 0px 1px 2px rgba(60, 64, 67, 0.3), 0px 1px 3px 1px rgba(60, 64, 67, 0.15);\n",
              "      fill: #174EA6;\n",
              "    }\n",
              "\n",
              "    .colab-df-buttons div {\n",
              "      margin-bottom: 4px;\n",
              "    }\n",
              "\n",
              "    [theme=dark] .colab-df-convert {\n",
              "      background-color: #3B4455;\n",
              "      fill: #D2E3FC;\n",
              "    }\n",
              "\n",
              "    [theme=dark] .colab-df-convert:hover {\n",
              "      background-color: #434B5C;\n",
              "      box-shadow: 0px 1px 3px 1px rgba(0, 0, 0, 0.15);\n",
              "      filter: drop-shadow(0px 1px 2px rgba(0, 0, 0, 0.3));\n",
              "      fill: #FFFFFF;\n",
              "    }\n",
              "  </style>\n",
              "\n",
              "    <script>\n",
              "      const buttonEl =\n",
              "        document.querySelector('#df-2b8f45b7-1e2e-4aea-bb7e-a4438a84b0e5 button.colab-df-convert');\n",
              "      buttonEl.style.display =\n",
              "        google.colab.kernel.accessAllowed ? 'block' : 'none';\n",
              "\n",
              "      async function convertToInteractive(key) {\n",
              "        const element = document.querySelector('#df-2b8f45b7-1e2e-4aea-bb7e-a4438a84b0e5');\n",
              "        const dataTable =\n",
              "          await google.colab.kernel.invokeFunction('convertToInteractive',\n",
              "                                                    [key], {});\n",
              "        if (!dataTable) return;\n",
              "\n",
              "        const docLinkHtml = 'Like what you see? Visit the ' +\n",
              "          '<a target=\"_blank\" href=https://colab.research.google.com/notebooks/data_table.ipynb>data table notebook</a>'\n",
              "          + ' to learn more about interactive tables.';\n",
              "        element.innerHTML = '';\n",
              "        dataTable['output_type'] = 'display_data';\n",
              "        await google.colab.output.renderOutput(dataTable, element);\n",
              "        const docLink = document.createElement('div');\n",
              "        docLink.innerHTML = docLinkHtml;\n",
              "        element.appendChild(docLink);\n",
              "      }\n",
              "    </script>\n",
              "  </div>\n",
              "\n",
              "\n",
              "<div id=\"df-55e9d3b7-e339-479a-8d47-05f70b7ffd2f\">\n",
              "  <button class=\"colab-df-quickchart\" onclick=\"quickchart('df-55e9d3b7-e339-479a-8d47-05f70b7ffd2f')\"\n",
              "            title=\"Suggest charts\"\n",
              "            style=\"display:none;\">\n",
              "\n",
              "<svg xmlns=\"http://www.w3.org/2000/svg\" height=\"24px\"viewBox=\"0 0 24 24\"\n",
              "     width=\"24px\">\n",
              "    <g>\n",
              "        <path d=\"M19 3H5c-1.1 0-2 .9-2 2v14c0 1.1.9 2 2 2h14c1.1 0 2-.9 2-2V5c0-1.1-.9-2-2-2zM9 17H7v-7h2v7zm4 0h-2V7h2v10zm4 0h-2v-4h2v4z\"/>\n",
              "    </g>\n",
              "</svg>\n",
              "  </button>\n",
              "\n",
              "<style>\n",
              "  .colab-df-quickchart {\n",
              "      --bg-color: #E8F0FE;\n",
              "      --fill-color: #1967D2;\n",
              "      --hover-bg-color: #E2EBFA;\n",
              "      --hover-fill-color: #174EA6;\n",
              "      --disabled-fill-color: #AAA;\n",
              "      --disabled-bg-color: #DDD;\n",
              "  }\n",
              "\n",
              "  [theme=dark] .colab-df-quickchart {\n",
              "      --bg-color: #3B4455;\n",
              "      --fill-color: #D2E3FC;\n",
              "      --hover-bg-color: #434B5C;\n",
              "      --hover-fill-color: #FFFFFF;\n",
              "      --disabled-bg-color: #3B4455;\n",
              "      --disabled-fill-color: #666;\n",
              "  }\n",
              "\n",
              "  .colab-df-quickchart {\n",
              "    background-color: var(--bg-color);\n",
              "    border: none;\n",
              "    border-radius: 50%;\n",
              "    cursor: pointer;\n",
              "    display: none;\n",
              "    fill: var(--fill-color);\n",
              "    height: 32px;\n",
              "    padding: 0;\n",
              "    width: 32px;\n",
              "  }\n",
              "\n",
              "  .colab-df-quickchart:hover {\n",
              "    background-color: var(--hover-bg-color);\n",
              "    box-shadow: 0 1px 2px rgba(60, 64, 67, 0.3), 0 1px 3px 1px rgba(60, 64, 67, 0.15);\n",
              "    fill: var(--button-hover-fill-color);\n",
              "  }\n",
              "\n",
              "  .colab-df-quickchart-complete:disabled,\n",
              "  .colab-df-quickchart-complete:disabled:hover {\n",
              "    background-color: var(--disabled-bg-color);\n",
              "    fill: var(--disabled-fill-color);\n",
              "    box-shadow: none;\n",
              "  }\n",
              "\n",
              "  .colab-df-spinner {\n",
              "    border: 2px solid var(--fill-color);\n",
              "    border-color: transparent;\n",
              "    border-bottom-color: var(--fill-color);\n",
              "    animation:\n",
              "      spin 1s steps(1) infinite;\n",
              "  }\n",
              "\n",
              "  @keyframes spin {\n",
              "    0% {\n",
              "      border-color: transparent;\n",
              "      border-bottom-color: var(--fill-color);\n",
              "      border-left-color: var(--fill-color);\n",
              "    }\n",
              "    20% {\n",
              "      border-color: transparent;\n",
              "      border-left-color: var(--fill-color);\n",
              "      border-top-color: var(--fill-color);\n",
              "    }\n",
              "    30% {\n",
              "      border-color: transparent;\n",
              "      border-left-color: var(--fill-color);\n",
              "      border-top-color: var(--fill-color);\n",
              "      border-right-color: var(--fill-color);\n",
              "    }\n",
              "    40% {\n",
              "      border-color: transparent;\n",
              "      border-right-color: var(--fill-color);\n",
              "      border-top-color: var(--fill-color);\n",
              "    }\n",
              "    60% {\n",
              "      border-color: transparent;\n",
              "      border-right-color: var(--fill-color);\n",
              "    }\n",
              "    80% {\n",
              "      border-color: transparent;\n",
              "      border-right-color: var(--fill-color);\n",
              "      border-bottom-color: var(--fill-color);\n",
              "    }\n",
              "    90% {\n",
              "      border-color: transparent;\n",
              "      border-bottom-color: var(--fill-color);\n",
              "    }\n",
              "  }\n",
              "</style>\n",
              "\n",
              "  <script>\n",
              "    async function quickchart(key) {\n",
              "      const quickchartButtonEl =\n",
              "        document.querySelector('#' + key + ' button');\n",
              "      quickchartButtonEl.disabled = true;  // To prevent multiple clicks.\n",
              "      quickchartButtonEl.classList.add('colab-df-spinner');\n",
              "      try {\n",
              "        const charts = await google.colab.kernel.invokeFunction(\n",
              "            'suggestCharts', [key], {});\n",
              "      } catch (error) {\n",
              "        console.error('Error during call to suggestCharts:', error);\n",
              "      }\n",
              "      quickchartButtonEl.classList.remove('colab-df-spinner');\n",
              "      quickchartButtonEl.classList.add('colab-df-quickchart-complete');\n",
              "    }\n",
              "    (() => {\n",
              "      let quickchartButtonEl =\n",
              "        document.querySelector('#df-55e9d3b7-e339-479a-8d47-05f70b7ffd2f button');\n",
              "      quickchartButtonEl.style.display =\n",
              "        google.colab.kernel.accessAllowed ? 'block' : 'none';\n",
              "    })();\n",
              "  </script>\n",
              "</div>\n",
              "\n",
              "    </div>\n",
              "  </div>\n"
            ],
            "application/vnd.google.colaboratory.intrinsic+json": {
              "type": "dataframe",
              "variable_name": "final_val",
              "summary": "{\n  \"name\": \"final_val\",\n  \"rows\": 4944,\n  \"fields\": [\n    {\n      \"column\": \"MLS\",\n      \"properties\": {\n        \"dtype\": \"number\",\n        \"std\": 1419951,\n        \"min\": 4110917,\n        \"max\": 21928565,\n        \"num_unique_values\": 4944,\n        \"samples\": [\n          21213023,\n          21414120,\n          21618940\n        ],\n        \"semantic_type\": \"\",\n        \"description\": \"\"\n      }\n    },\n    {\n      \"column\": \"sold_price\",\n      \"properties\": {\n        \"dtype\": \"number\",\n        \"std\": 316046.46340386494,\n        \"min\": 169000.0,\n        \"max\": 5300000.0,\n        \"num_unique_values\": 1090,\n        \"samples\": [\n          592288.0,\n          498000.0,\n          529800.0\n        ],\n        \"semantic_type\": \"\",\n        \"description\": \"\"\n      }\n    },\n    {\n      \"column\": \"zipcode\",\n      \"properties\": {\n        \"dtype\": \"number\",\n        \"std\": 36,\n        \"min\": 85118,\n        \"max\": 86323,\n        \"num_unique_values\": 56,\n        \"samples\": [\n          85637,\n          85640,\n          85610\n        ],\n        \"semantic_type\": \"\",\n        \"description\": \"\"\n      }\n    },\n    {\n      \"column\": \"longitude\",\n      \"properties\": {\n        \"dtype\": \"number\",\n        \"std\": 0.12060370646637385,\n        \"min\": -112.520168,\n        \"max\": -109.454637,\n        \"num_unique_values\": 4720,\n        \"samples\": [\n          -110.983159,\n          -110.925144,\n          -110.718328\n        ],\n        \"semantic_type\": \"\",\n        \"description\": \"\"\n      }\n    },\n    {\n      \"column\": \"latitude\",\n      \"properties\": {\n        \"dtype\": \"number\",\n        \"std\": 0.16938017953113257,\n        \"min\": 31.356362,\n        \"max\": 34.927884,\n        \"num_unique_values\": 4773,\n        \"samples\": [\n          31.720431,\n          32.318579,\n          32.409412\n        ],\n        \"semantic_type\": \"\",\n        \"description\": \"\"\n      }\n    },\n    {\n      \"column\": \"lot_acres\",\n      \"properties\": {\n        \"dtype\": \"number\",\n        \"std\": 45.851749933099846,\n        \"min\": 0.0,\n        \"max\": 2154.0,\n        \"num_unique_values\": 642,\n        \"samples\": [\n          0.83,\n          220.0,\n          37.57\n        ],\n        \"semantic_type\": \"\",\n        \"description\": \"\"\n      }\n    },\n    {\n      \"column\": \"taxes\",\n      \"properties\": {\n        \"dtype\": \"number\",\n        \"std\": 173914.4264494951,\n        \"min\": 0.0,\n        \"max\": 12215075.0,\n        \"num_unique_values\": 4692,\n        \"samples\": [\n          6019.0,\n          6043.67,\n          4269.54\n        ],\n        \"semantic_type\": \"\",\n        \"description\": \"\"\n      }\n    },\n    {\n      \"column\": \"bedrooms\",\n      \"properties\": {\n        \"dtype\": \"number\",\n        \"std\": 1,\n        \"min\": 1,\n        \"max\": 36,\n        \"num_unique_values\": 15,\n        \"samples\": [\n          19,\n          10,\n          13\n        ],\n        \"semantic_type\": \"\",\n        \"description\": \"\"\n      }\n    },\n    {\n      \"column\": \"bathrooms\",\n      \"properties\": {\n        \"dtype\": \"number\",\n        \"std\": 1.3180484305761453,\n        \"min\": 1.0,\n        \"max\": 36.0,\n        \"num_unique_values\": 19,\n        \"samples\": [\n          10.0,\n          8.0,\n          9.0\n        ],\n        \"semantic_type\": \"\",\n        \"description\": \"\"\n      }\n    },\n    {\n      \"column\": \"sqrt_ft\",\n      \"properties\": {\n        \"dtype\": \"number\",\n        \"std\": 1120.683514741974,\n        \"min\": 1100.0,\n        \"max\": 22408.0,\n        \"num_unique_values\": 2361,\n        \"samples\": [\n          3194.0,\n          3035.0,\n          3253.0\n        ],\n        \"semantic_type\": \"\",\n        \"description\": \"\"\n      }\n    },\n    {\n      \"column\": \"garage\",\n      \"properties\": {\n        \"dtype\": \"number\",\n        \"std\": 1.1994742478785996,\n        \"min\": 0.0,\n        \"max\": 30.0,\n        \"num_unique_values\": 21,\n        \"samples\": [\n          0.0,\n          10.0,\n          30.0\n        ],\n        \"semantic_type\": \"\",\n        \"description\": \"\"\n      }\n    },\n    {\n      \"column\": \"kitchen_features\",\n      \"properties\": {\n        \"dtype\": \"category\",\n        \"num_unique_values\": 1818,\n        \"samples\": [\n          \"Dishwasher, Double Sink, Electric Range, Freezer, Garbage Disposal, Island, Lazy Susan, Pantry: Walk-In, Refrigerator, Appliance Color: Stainless, Countertops: Granite/Quartz, Microwave: Stainless, Oven: Stainless\",\n          \"Dishwasher, Double Sink, Garbage Disposal, Refrigerator, Appliance Color: Stainless, Countertops: Quartz, Microwave: Stainless, Oven: Double\",\n          \"Compactor, Dishwasher, Double Sink, Garbage Disposal, Gas Range, Island, Refrigerator, Warming Drawer, Appliance Color: Stainless, Countertops: mixed\"\n        ],\n        \"semantic_type\": \"\",\n        \"description\": \"\"\n      }\n    },\n    {\n      \"column\": \"fireplaces\",\n      \"properties\": {\n        \"dtype\": \"number\",\n        \"std\": 1.1354630736581788,\n        \"min\": 0.0,\n        \"max\": 9.0,\n        \"num_unique_values\": 10,\n        \"samples\": [\n          9.0,\n          5.0,\n          3.0\n        ],\n        \"semantic_type\": \"\",\n        \"description\": \"\"\n      }\n    },\n    {\n      \"column\": \"floor_covering\",\n      \"properties\": {\n        \"dtype\": \"category\",\n        \"num_unique_values\": 296,\n        \"samples\": [\n          \"Ceramic Tile, Other: Engineered Wood\",\n          \"Mexican Tile, Other\",\n          \"Natural Stone, Other: Limestone\"\n        ],\n        \"semantic_type\": \"\",\n        \"description\": \"\"\n      }\n    },\n    {\n      \"column\": \"HOA\",\n      \"properties\": {\n        \"dtype\": \"category\",\n        \"num_unique_values\": 373,\n        \"samples\": [\n          \"5.25\",\n          \"193\",\n          \"194\"\n        ],\n        \"semantic_type\": \"\",\n        \"description\": \"\"\n      }\n    },\n    {\n      \"column\": \"Number of Rooms\",\n      \"properties\": {\n        \"dtype\": \"number\",\n        \"std\": 2.251888570210672,\n        \"min\": 2.0,\n        \"max\": 71.0,\n        \"num_unique_values\": 30,\n        \"samples\": [\n          19.0,\n          5.0,\n          3.0\n        ],\n        \"semantic_type\": \"\",\n        \"description\": \"\"\n      }\n    },\n    {\n      \"column\": \"House_Age\",\n      \"properties\": {\n        \"dtype\": \"number\",\n        \"std\": 65,\n        \"min\": 6,\n        \"max\": 2025,\n        \"num_unique_values\": 112,\n        \"samples\": [\n          36,\n          67,\n          26\n        ],\n        \"semantic_type\": \"\",\n        \"description\": \"\"\n      }\n    }\n  ]\n}"
            }
          },
          "metadata": {},
          "execution_count": 20
        }
      ]
    },
    {
      "cell_type": "markdown",
      "source": [
        "## Price per SQFT calculation\n"
      ],
      "metadata": {
        "id": "r8UivX4X04Xq"
      }
    },
    {
      "cell_type": "code",
      "source": [
        "# SQFT calculated in new column\n",
        "\n",
        "final_val.loc[:,'Price per Sqft']=final_val['sold_price']/final_val['sqrt_ft']\n",
        "final_val['Price per Sqft']"
      ],
      "metadata": {
        "id": "q5XHzBMJ2Abs",
        "colab": {
          "base_uri": "https://localhost:8080/",
          "height": 458
        },
        "outputId": "bd426548-1938-4057-89ce-e652e84bcddd"
      },
      "execution_count": 21,
      "outputs": [
        {
          "output_type": "execute_result",
          "data": {
            "text/plain": [
              "0       504.761905\n",
              "1       575.342466\n",
              "3       498.946668\n",
              "4       533.372420\n",
              "5       475.007308\n",
              "           ...    \n",
              "4995    137.461816\n",
              "4996    237.273512\n",
              "4997    268.058691\n",
              "4998    147.690655\n",
              "4999    104.239055\n",
              "Name: Price per Sqft, Length: 4944, dtype: float64"
            ],
            "text/html": [
              "<div>\n",
              "<style scoped>\n",
              "    .dataframe tbody tr th:only-of-type {\n",
              "        vertical-align: middle;\n",
              "    }\n",
              "\n",
              "    .dataframe tbody tr th {\n",
              "        vertical-align: top;\n",
              "    }\n",
              "\n",
              "    .dataframe thead th {\n",
              "        text-align: right;\n",
              "    }\n",
              "</style>\n",
              "<table border=\"1\" class=\"dataframe\">\n",
              "  <thead>\n",
              "    <tr style=\"text-align: right;\">\n",
              "      <th></th>\n",
              "      <th>Price per Sqft</th>\n",
              "    </tr>\n",
              "  </thead>\n",
              "  <tbody>\n",
              "    <tr>\n",
              "      <th>0</th>\n",
              "      <td>504.761905</td>\n",
              "    </tr>\n",
              "    <tr>\n",
              "      <th>1</th>\n",
              "      <td>575.342466</td>\n",
              "    </tr>\n",
              "    <tr>\n",
              "      <th>3</th>\n",
              "      <td>498.946668</td>\n",
              "    </tr>\n",
              "    <tr>\n",
              "      <th>4</th>\n",
              "      <td>533.372420</td>\n",
              "    </tr>\n",
              "    <tr>\n",
              "      <th>5</th>\n",
              "      <td>475.007308</td>\n",
              "    </tr>\n",
              "    <tr>\n",
              "      <th>...</th>\n",
              "      <td>...</td>\n",
              "    </tr>\n",
              "    <tr>\n",
              "      <th>4995</th>\n",
              "      <td>137.461816</td>\n",
              "    </tr>\n",
              "    <tr>\n",
              "      <th>4996</th>\n",
              "      <td>237.273512</td>\n",
              "    </tr>\n",
              "    <tr>\n",
              "      <th>4997</th>\n",
              "      <td>268.058691</td>\n",
              "    </tr>\n",
              "    <tr>\n",
              "      <th>4998</th>\n",
              "      <td>147.690655</td>\n",
              "    </tr>\n",
              "    <tr>\n",
              "      <th>4999</th>\n",
              "      <td>104.239055</td>\n",
              "    </tr>\n",
              "  </tbody>\n",
              "</table>\n",
              "<p>4944 rows × 1 columns</p>\n",
              "</div><br><label><b>dtype:</b> float64</label>"
            ]
          },
          "metadata": {},
          "execution_count": 21
        }
      ]
    },
    {
      "cell_type": "code",
      "source": [
        "# # Grouped by zipcode to valued the median for missing Price per Sqft & HOA\n",
        "\n",
        "# final_val.loc[:, 'Price per Sqft'] = final_val.groupby('zipcode')['Price per Sqft'].transform(lambda x: x.fillna(x.median()))\n",
        "# final_val.loc[:,'HOA'] = pd.to_numeric(final_val['HOA'], errors='coerce')\n",
        "# final_val.loc[:, 'HOA'] = final_val.groupby('zipcode')['HOA'].transform(lambda x: x.fillna(x.median()))\n",
        "# final_val.loc[:, 'HOA'] = final_val.groupby('zipcode')['HOA'].transform(lambda x: x.fillna(x.median()))\n",
        "\n",
        "# final_val['HOA'].head()\n",
        "\n",
        "final_val.isnull().sum()"
      ],
      "metadata": {
        "id": "z08sPx055Y2T",
        "colab": {
          "base_uri": "https://localhost:8080/",
          "height": 648
        },
        "outputId": "34b26b68-a40a-4116-de8a-f894ee33aaaf"
      },
      "execution_count": 22,
      "outputs": [
        {
          "output_type": "execute_result",
          "data": {
            "text/plain": [
              "MLS                 0\n",
              "sold_price          0\n",
              "zipcode             0\n",
              "longitude           0\n",
              "latitude            0\n",
              "lot_acres           0\n",
              "taxes               0\n",
              "bedrooms            0\n",
              "bathrooms           0\n",
              "sqrt_ft             0\n",
              "garage              0\n",
              "kitchen_features    0\n",
              "fireplaces          0\n",
              "floor_covering      0\n",
              "HOA                 0\n",
              "Number of Rooms     0\n",
              "House_Age           0\n",
              "Price per Sqft      0\n",
              "dtype: int64"
            ],
            "text/html": [
              "<div>\n",
              "<style scoped>\n",
              "    .dataframe tbody tr th:only-of-type {\n",
              "        vertical-align: middle;\n",
              "    }\n",
              "\n",
              "    .dataframe tbody tr th {\n",
              "        vertical-align: top;\n",
              "    }\n",
              "\n",
              "    .dataframe thead th {\n",
              "        text-align: right;\n",
              "    }\n",
              "</style>\n",
              "<table border=\"1\" class=\"dataframe\">\n",
              "  <thead>\n",
              "    <tr style=\"text-align: right;\">\n",
              "      <th></th>\n",
              "      <th>0</th>\n",
              "    </tr>\n",
              "  </thead>\n",
              "  <tbody>\n",
              "    <tr>\n",
              "      <th>MLS</th>\n",
              "      <td>0</td>\n",
              "    </tr>\n",
              "    <tr>\n",
              "      <th>sold_price</th>\n",
              "      <td>0</td>\n",
              "    </tr>\n",
              "    <tr>\n",
              "      <th>zipcode</th>\n",
              "      <td>0</td>\n",
              "    </tr>\n",
              "    <tr>\n",
              "      <th>longitude</th>\n",
              "      <td>0</td>\n",
              "    </tr>\n",
              "    <tr>\n",
              "      <th>latitude</th>\n",
              "      <td>0</td>\n",
              "    </tr>\n",
              "    <tr>\n",
              "      <th>lot_acres</th>\n",
              "      <td>0</td>\n",
              "    </tr>\n",
              "    <tr>\n",
              "      <th>taxes</th>\n",
              "      <td>0</td>\n",
              "    </tr>\n",
              "    <tr>\n",
              "      <th>bedrooms</th>\n",
              "      <td>0</td>\n",
              "    </tr>\n",
              "    <tr>\n",
              "      <th>bathrooms</th>\n",
              "      <td>0</td>\n",
              "    </tr>\n",
              "    <tr>\n",
              "      <th>sqrt_ft</th>\n",
              "      <td>0</td>\n",
              "    </tr>\n",
              "    <tr>\n",
              "      <th>garage</th>\n",
              "      <td>0</td>\n",
              "    </tr>\n",
              "    <tr>\n",
              "      <th>kitchen_features</th>\n",
              "      <td>0</td>\n",
              "    </tr>\n",
              "    <tr>\n",
              "      <th>fireplaces</th>\n",
              "      <td>0</td>\n",
              "    </tr>\n",
              "    <tr>\n",
              "      <th>floor_covering</th>\n",
              "      <td>0</td>\n",
              "    </tr>\n",
              "    <tr>\n",
              "      <th>HOA</th>\n",
              "      <td>0</td>\n",
              "    </tr>\n",
              "    <tr>\n",
              "      <th>Number of Rooms</th>\n",
              "      <td>0</td>\n",
              "    </tr>\n",
              "    <tr>\n",
              "      <th>House_Age</th>\n",
              "      <td>0</td>\n",
              "    </tr>\n",
              "    <tr>\n",
              "      <th>Price per Sqft</th>\n",
              "      <td>0</td>\n",
              "    </tr>\n",
              "  </tbody>\n",
              "</table>\n",
              "</div><br><label><b>dtype:</b> int64</label>"
            ]
          },
          "metadata": {},
          "execution_count": 22
        }
      ]
    },
    {
      "cell_type": "markdown",
      "source": [
        "# Preparing variable for the KNN classifier & regressor"
      ],
      "metadata": {
        "id": "p-RNeymuTjE2"
      }
    },
    {
      "cell_type": "markdown",
      "source": [
        "## Created BIN column"
      ],
      "metadata": {
        "id": "IBAkJy7D1nGf"
      }
    },
    {
      "cell_type": "code",
      "source": [
        "# Created Bin for Price Per Sqft\n",
        "final_val.loc[:,'Price_Bin'] = pd.qcut(final_val['Price per Sqft'], q=20, labels=False)\n",
        "\n",
        "final_val.columns"
      ],
      "metadata": {
        "id": "e1JdcDH_-qUf",
        "colab": {
          "base_uri": "https://localhost:8080/"
        },
        "outputId": "1588bc15-687d-4b9c-da5e-6266563031d2"
      },
      "execution_count": 23,
      "outputs": [
        {
          "output_type": "execute_result",
          "data": {
            "text/plain": [
              "Index(['MLS', 'sold_price', 'zipcode', 'longitude', 'latitude', 'lot_acres',\n",
              "       'taxes', 'bedrooms', 'bathrooms', 'sqrt_ft', 'garage',\n",
              "       'kitchen_features', 'fireplaces', 'floor_covering', 'HOA',\n",
              "       'Number of Rooms', 'House_Age', 'Price per Sqft', 'Price_Bin'],\n",
              "      dtype='object')"
            ]
          },
          "metadata": {},
          "execution_count": 23
        }
      ]
    },
    {
      "cell_type": "code",
      "source": [
        "print(final_val[['Price per Sqft', 'Price_Bin']])"
      ],
      "metadata": {
        "colab": {
          "base_uri": "https://localhost:8080/"
        },
        "id": "wQOgWeFeQDfS",
        "outputId": "4ffb9667-a09f-4377-af8a-34ff064551c5"
      },
      "execution_count": 24,
      "outputs": [
        {
          "output_type": "stream",
          "name": "stdout",
          "text": [
            "      Price per Sqft  Price_Bin\n",
            "0         504.761905         19\n",
            "1         575.342466         19\n",
            "3         498.946668         19\n",
            "4         533.372420         19\n",
            "5         475.007308         19\n",
            "...              ...        ...\n",
            "4995      137.461816          0\n",
            "4996      237.273512         15\n",
            "4997      268.058691         17\n",
            "4998      147.690655          1\n",
            "4999      104.239055          0\n",
            "\n",
            "[4944 rows x 2 columns]\n"
          ]
        }
      ]
    },
    {
      "cell_type": "code",
      "source": [
        "numeric_final_val = final_val.select_dtypes(include=[np.number])\n",
        "\n",
        "fig = plt.figure(figsize=(21, 6))\n",
        "sns.set_style('darkgrid', rc={'axes.facecolor': '#eaf'})\n",
        "sns.set_palette('viridis', 12)\n",
        "sns.heatmap(numeric_final_val.corr(), annot=True, cmap=\"YlGnBu\", linewidths=1)\n",
        "plt.xticks(rotation=45)\n",
        "plt.show()"
      ],
      "metadata": {
        "colab": {
          "base_uri": "https://localhost:8080/",
          "height": 605
        },
        "id": "12jEIS_PMsSM",
        "outputId": "0549b0df-1671-4f1f-90aa-279ab1862fc2"
      },
      "execution_count": 25,
      "outputs": [
        {
          "output_type": "display_data",
          "data": {
            "text/plain": [
              "<Figure size 2100x600 with 2 Axes>"
            ],
            "image/png": "[encoded data removed]"
          },
          "metadata": {}
        }
      ]
    },
    {
      "cell_type": "markdown",
      "source": [
        "## Geo Partial value assigned to the X Variable and y as Prices per sqft\n",
        "\n",
        "---\n",
        "\n"
      ],
      "metadata": {
        "id": "td42ynzU2DiQ"
      }
    },
    {
      "cell_type": "code",
      "source": [
        "X=final_val.loc[:,['latitude','longitude']].to_numpy()\n",
        "\n"
      ],
      "metadata": {
        "id": "H_8w7HTsHHJv"
      },
      "execution_count": 29,
      "outputs": []
    },
    {
      "cell_type": "code",
      "source": [
        "y=final_val['Price_Bin'].to_numpy().astype('int64')"
      ],
      "metadata": {
        "id": "cmtNq6I3M6_X"
      },
      "execution_count": 30,
      "outputs": []
    },
    {
      "cell_type": "code",
      "source": [
        "class KNNClassifier():\n",
        "\n",
        "  def fit(self, X, y):\n",
        "    self.X = X\n",
        "    self.y = y\n",
        "\n",
        "  def predict(self, X, K, epsilon =1e-3):\n",
        "\n",
        "    N=len(X)\n",
        "    y_hat = np.zeros(N)\n",
        "\n",
        "    for i in range(N):\n",
        "      dist2 = np.sum((self.X-X[i])**2,axis=1)\n",
        "      idxt =np.argsort(dist2)[:K]\n",
        "\n",
        "      gamma_k = 1/(np.sqrt(dist2[idxt]+epsilon))\n",
        "\n",
        "      y_hat[i] = np.bincount(self.y[idxt], weights=gamma_k).argmax()\n",
        "\n",
        "\n",
        "    return y_hat\n"
      ],
      "metadata": {
        "id": "2riwMa1dOEzE"
      },
      "execution_count": 31,
      "outputs": []
    },
    {
      "cell_type": "code",
      "source": [
        "def accuracy(y, y_hat):\n",
        "    return np.mean(y == y_hat)"
      ],
      "metadata": {
        "id": "AFHJSkCbOhGF"
      },
      "execution_count": 32,
      "outputs": []
    },
    {
      "cell_type": "code",
      "source": [
        "KNNclassifiermodel = KNNClassifier()\n",
        "KNNclassifiermodel.fit(X,y)\n"
      ],
      "metadata": {
        "id": "RThveQBKPrH1"
      },
      "execution_count": 33,
      "outputs": []
    },
    {
      "cell_type": "code",
      "source": [
        "y_hat_knn_classifier=KNNclassifiermodel.predict(X,K=5)\n"
      ],
      "metadata": {
        "id": "760P3XGaQQBr"
      },
      "execution_count": 34,
      "outputs": []
    },
    {
      "cell_type": "code",
      "source": [
        "accu_knn_classifier=accuracy(y,y_hat_knn_classifier)\n",
        "print('Validation Accuracy for KNN:', round(accu_knn_classifier, 2))"
      ],
      "metadata": {
        "colab": {
          "base_uri": "https://localhost:8080/"
        },
        "id": "Zb-nzy4d60hc",
        "outputId": "b7975679-4e20-4cae-e353-cba20cc0fa19"
      },
      "execution_count": 35,
      "outputs": [
        {
          "output_type": "stream",
          "name": "stdout",
          "text": [
            "Validation Accuracy for KNN: 0.69\n"
          ]
        }
      ]
    },
    {
      "cell_type": "markdown",
      "source": [
        "##Creating Two Dataframes to sum Kitchen Features & Floor features"
      ],
      "metadata": {
        "id": "l8B8pJc_02hR"
      }
    },
    {
      "cell_type": "code",
      "source": [
        "df2=final_val['kitchen_features'].str.split(',', expand=True).rename(columns = lambda x: \"kitchen_f\"+str(x+1));\n",
        "df3=final_val['floor_covering'].str.split(',', expand=True).rename(columns = lambda x: \"floor_c\"+str(x+1))\n"
      ],
      "metadata": {
        "id": "iiGoU9Zvd8YQ"
      },
      "execution_count": 36,
      "outputs": []
    },
    {
      "cell_type": "code",
      "source": [
        "df2.fillna(0)\n"
      ],
      "metadata": {
        "id": "LM9oJWXA9lD5"
      },
      "execution_count": null,
      "outputs": []
    },
    {
      "cell_type": "code",
      "source": [
        "df2=df2.replace(regex={r'\\D+': 1})  #instead of string values replacing as 1\n",
        "df2=df2.fillna(0)\n",
        "df2.head(5)\n",
        "\n"
      ],
      "metadata": {
        "id": "gXWENW41BwVc",
        "colab": {
          "base_uri": "https://localhost:8080/",
          "height": 206
        },
        "outputId": "89205789-3202-4133-accc-9d5f7b7641c2"
      },
      "execution_count": 47,
      "outputs": [
        {
          "output_type": "execute_result",
          "data": {
            "text/plain": [
              "   kitchen_f1  kitchen_f2  kitchen_f3  kitchen_f4  kitchen_f5  kitchen_f6  \\\n",
              "0         1.0         1.0         1.0         1.0         0.0         0.0   \n",
              "1         1.0         1.0         0.0         0.0         0.0         0.0   \n",
              "3         1.0         1.0         1.0         1.0         0.0         0.0   \n",
              "4         1.0         1.0         1.0         1.0         1.0         0.0   \n",
              "5         1.0         1.0         1.0         1.0         1.0         0.0   \n",
              "\n",
              "   kitchen_f7  kitchen_f8  kitchen_f9  kitchen_f10  kitchen_f11  kitchen_f12  \\\n",
              "0         0.0         0.0         0.0          0.0          0.0          0.0   \n",
              "1         0.0         0.0         0.0          0.0          0.0          0.0   \n",
              "3         0.0         0.0         0.0          0.0          0.0          0.0   \n",
              "4         0.0         0.0         0.0          0.0          0.0          0.0   \n",
              "5         0.0         0.0         0.0          0.0          0.0          0.0   \n",
              "\n",
              "   kitchen_f13  kitchen_f14  kitchen_f15  Kitchen_Sum  \n",
              "0          0.0          0.0          0.0          4.0  \n",
              "1          0.0          0.0          0.0          2.0  \n",
              "3          0.0          0.0          0.0          4.0  \n",
              "4          0.0          0.0          0.0          5.0  \n",
              "5          0.0          0.0          0.0          5.0  "
            ],
            "text/html": [
              "\n",
              "  <div id=\"df-2734d436-79e5-4df9-b9b2-8569a1709ba6\" class=\"colab-df-container\">\n",
              "    <div>\n",
              "<style scoped>\n",
              "    .dataframe tbody tr th:only-of-type {\n",
              "        vertical-align: middle;\n",
              "    }\n",
              "\n",
              "    .dataframe tbody tr th {\n",
              "        vertical-align: top;\n",
              "    }\n",
              "\n",
              "    .dataframe thead th {\n",
              "        text-align: right;\n",
              "    }\n",
              "</style>\n",
              "<table border=\"1\" class=\"dataframe\">\n",
              "  <thead>\n",
              "    <tr style=\"text-align: right;\">\n",
              "      <th></th>\n",
              "      <th>kitchen_f1</th>\n",
              "      <th>kitchen_f2</th>\n",
              "      <th>kitchen_f3</th>\n",
              "      <th>kitchen_f4</th>\n",
              "      <th>kitchen_f5</th>\n",
              "      <th>kitchen_f6</th>\n",
              "      <th>kitchen_f7</th>\n",
              "      <th>kitchen_f8</th>\n",
              "      <th>kitchen_f9</th>\n",
              "      <th>kitchen_f10</th>\n",
              "      <th>kitchen_f11</th>\n",
              "      <th>kitchen_f12</th>\n",
              "      <th>kitchen_f13</th>\n",
              "      <th>kitchen_f14</th>\n",
              "      <th>kitchen_f15</th>\n",
              "      <th>Kitchen_Sum</th>\n",
              "    </tr>\n",
              "  </thead>\n",
              "  <tbody>\n",
              "    <tr>\n",
              "      <th>0</th>\n",
              "      <td>1.0</td>\n",
              "      <td>1.0</td>\n",
              "      <td>1.0</td>\n",
              "      <td>1.0</td>\n",
              "      <td>0.0</td>\n",
              "      <td>0.0</td>\n",
              "      <td>0.0</td>\n",
              "      <td>0.0</td>\n",
              "      <td>0.0</td>\n",
              "      <td>0.0</td>\n",
              "      <td>0.0</td>\n",
              "      <td>0.0</td>\n",
              "      <td>0.0</td>\n",
              "      <td>0.0</td>\n",
              "      <td>0.0</td>\n",
              "      <td>4.0</td>\n",
              "    </tr>\n",
              "    <tr>\n",
              "      <th>1</th>\n",
              "      <td>1.0</td>\n",
              "      <td>1.0</td>\n",
              "      <td>0.0</td>\n",
              "      <td>0.0</td>\n",
              "      <td>0.0</td>\n",
              "      <td>0.0</td>\n",
              "      <td>0.0</td>\n",
              "      <td>0.0</td>\n",
              "      <td>0.0</td>\n",
              "      <td>0.0</td>\n",
              "      <td>0.0</td>\n",
              "      <td>0.0</td>\n",
              "      <td>0.0</td>\n",
              "      <td>0.0</td>\n",
              "      <td>0.0</td>\n",
              "      <td>2.0</td>\n",
              "    </tr>\n",
              "    <tr>\n",
              "      <th>3</th>\n",
              "      <td>1.0</td>\n",
              "      <td>1.0</td>\n",
              "      <td>1.0</td>\n",
              "      <td>1.0</td>\n",
              "      <td>0.0</td>\n",
              "      <td>0.0</td>\n",
              "      <td>0.0</td>\n",
              "      <td>0.0</td>\n",
              "      <td>0.0</td>\n",
              "      <td>0.0</td>\n",
              "      <td>0.0</td>\n",
              "      <td>0.0</td>\n",
              "      <td>0.0</td>\n",
              "      <td>0.0</td>\n",
              "      <td>0.0</td>\n",
              "      <td>4.0</td>\n",
              "    </tr>\n",
              "    <tr>\n",
              "      <th>4</th>\n",
              "      <td>1.0</td>\n",
              "      <td>1.0</td>\n",
              "      <td>1.0</td>\n",
              "      <td>1.0</td>\n",
              "      <td>1.0</td>\n",
              "      <td>0.0</td>\n",
              "      <td>0.0</td>\n",
              "      <td>0.0</td>\n",
              "      <td>0.0</td>\n",
              "      <td>0.0</td>\n",
              "      <td>0.0</td>\n",
              "      <td>0.0</td>\n",
              "      <td>0.0</td>\n",
              "      <td>0.0</td>\n",
              "      <td>0.0</td>\n",
              "      <td>5.0</td>\n",
              "    </tr>\n",
              "    <tr>\n",
              "      <th>5</th>\n",
              "      <td>1.0</td>\n",
              "      <td>1.0</td>\n",
              "      <td>1.0</td>\n",
              "      <td>1.0</td>\n",
              "      <td>1.0</td>\n",
              "      <td>0.0</td>\n",
              "      <td>0.0</td>\n",
              "      <td>0.0</td>\n",
              "      <td>0.0</td>\n",
              "      <td>0.0</td>\n",
              "      <td>0.0</td>\n",
              "      <td>0.0</td>\n",
              "      <td>0.0</td>\n",
              "      <td>0.0</td>\n",
              "      <td>0.0</td>\n",
              "      <td>5.0</td>\n",
              "    </tr>\n",
              "  </tbody>\n",
              "</table>\n",
              "</div>\n",
              "    <div class=\"colab-df-buttons\">\n",
              "\n",
              "  <div class=\"colab-df-container\">\n",
              "    <button class=\"colab-df-convert\" onclick=\"convertToInteractive('df-2734d436-79e5-4df9-b9b2-8569a1709ba6')\"\n",
              "            title=\"Convert this dataframe to an interactive table.\"\n",
              "            style=\"display:none;\">\n",
              "\n",
              "  <svg xmlns=\"http://www.w3.org/2000/svg\" height=\"24px\" viewBox=\"0 -960 960 960\">\n",
              "    <path d=\"M120-120v-720h720v720H120Zm60-500h600v-160H180v160Zm220 220h160v-160H400v160Zm0 220h160v-160H400v160ZM180-400h160v-160H180v160Zm440 0h160v-160H620v160ZM180-180h160v-160H180v160Zm440 0h160v-160H620v160Z\"/>\n",
              "  </svg>\n",
              "    </button>\n",
              "\n",
              "  <style>\n",
              "    .colab-df-container {\n",
              "      display:flex;\n",
              "      gap: 12px;\n",
              "    }\n",
              "\n",
              "    .colab-df-convert {\n",
              "      background-color: #E8F0FE;\n",
              "      border: none;\n",
              "      border-radius: 50%;\n",
              "      cursor: pointer;\n",
              "      display: none;\n",
              "      fill: #1967D2;\n",
              "      height: 32px;\n",
              "      padding: 0 0 0 0;\n",
              "      width: 32px;\n",
              "    }\n",
              "\n",
              "    .colab-df-convert:hover {\n",
              "      background-color: #E2EBFA;\n",
              "      box-shadow: 0px 1px 2px rgba(60, 64, 67, 0.3), 0px 1px 3px 1px rgba(60, 64, 67, 0.15);\n",
              "      fill: #174EA6;\n",
              "    }\n",
              "\n",
              "    .colab-df-buttons div {\n",
              "      margin-bottom: 4px;\n",
              "    }\n",
              "\n",
              "    [theme=dark] .colab-df-convert {\n",
              "      background-color: #3B4455;\n",
              "      fill: #D2E3FC;\n",
              "    }\n",
              "\n",
              "    [theme=dark] .colab-df-convert:hover {\n",
              "      background-color: #434B5C;\n",
              "      box-shadow: 0px 1px 3px 1px rgba(0, 0, 0, 0.15);\n",
              "      filter: drop-shadow(0px 1px 2px rgba(0, 0, 0, 0.3));\n",
              "      fill: #FFFFFF;\n",
              "    }\n",
              "  </style>\n",
              "\n",
              "    <script>\n",
              "      const buttonEl =\n",
              "        document.querySelector('#df-2734d436-79e5-4df9-b9b2-8569a1709ba6 button.colab-df-convert');\n",
              "      buttonEl.style.display =\n",
              "        google.colab.kernel.accessAllowed ? 'block' : 'none';\n",
              "\n",
              "      async function convertToInteractive(key) {\n",
              "        const element = document.querySelector('#df-2734d436-79e5-4df9-b9b2-8569a1709ba6');\n",
              "        const dataTable =\n",
              "          await google.colab.kernel.invokeFunction('convertToInteractive',\n",
              "                                                    [key], {});\n",
              "        if (!dataTable) return;\n",
              "\n",
              "        const docLinkHtml = 'Like what you see? Visit the ' +\n",
              "          '<a target=\"_blank\" href=https://colab.research.google.com/notebooks/data_table.ipynb>data table notebook</a>'\n",
              "          + ' to learn more about interactive tables.';\n",
              "        element.innerHTML = '';\n",
              "        dataTable['output_type'] = 'display_data';\n",
              "        await google.colab.output.renderOutput(dataTable, element);\n",
              "        const docLink = document.createElement('div');\n",
              "        docLink.innerHTML = docLinkHtml;\n",
              "        element.appendChild(docLink);\n",
              "      }\n",
              "    </script>\n",
              "  </div>\n",
              "\n",
              "\n",
              "<div id=\"df-5a32c513-83e7-44ae-a34a-55a40dc2d405\">\n",
              "  <button class=\"colab-df-quickchart\" onclick=\"quickchart('df-5a32c513-83e7-44ae-a34a-55a40dc2d405')\"\n",
              "            title=\"Suggest charts\"\n",
              "            style=\"display:none;\">\n",
              "\n",
              "<svg xmlns=\"http://www.w3.org/2000/svg\" height=\"24px\"viewBox=\"0 0 24 24\"\n",
              "     width=\"24px\">\n",
              "    <g>\n",
              "        <path d=\"M19 3H5c-1.1 0-2 .9-2 2v14c0 1.1.9 2 2 2h14c1.1 0 2-.9 2-2V5c0-1.1-.9-2-2-2zM9 17H7v-7h2v7zm4 0h-2V7h2v10zm4 0h-2v-4h2v4z\"/>\n",
              "    </g>\n",
              "</svg>\n",
              "  </button>\n",
              "\n",
              "<style>\n",
              "  .colab-df-quickchart {\n",
              "      --bg-color: #E8F0FE;\n",
              "      --fill-color: #1967D2;\n",
              "      --hover-bg-color: #E2EBFA;\n",
              "      --hover-fill-color: #174EA6;\n",
              "      --disabled-fill-color: #AAA;\n",
              "      --disabled-bg-color: #DDD;\n",
              "  }\n",
              "\n",
              "  [theme=dark] .colab-df-quickchart {\n",
              "      --bg-color: #3B4455;\n",
              "      --fill-color: #D2E3FC;\n",
              "      --hover-bg-color: #434B5C;\n",
              "      --hover-fill-color: #FFFFFF;\n",
              "      --disabled-bg-color: #3B4455;\n",
              "      --disabled-fill-color: #666;\n",
              "  }\n",
              "\n",
              "  .colab-df-quickchart {\n",
              "    background-color: var(--bg-color);\n",
              "    border: none;\n",
              "    border-radius: 50%;\n",
              "    cursor: pointer;\n",
              "    display: none;\n",
              "    fill: var(--fill-color);\n",
              "    height: 32px;\n",
              "    padding: 0;\n",
              "    width: 32px;\n",
              "  }\n",
              "\n",
              "  .colab-df-quickchart:hover {\n",
              "    background-color: var(--hover-bg-color);\n",
              "    box-shadow: 0 1px 2px rgba(60, 64, 67, 0.3), 0 1px 3px 1px rgba(60, 64, 67, 0.15);\n",
              "    fill: var(--button-hover-fill-color);\n",
              "  }\n",
              "\n",
              "  .colab-df-quickchart-complete:disabled,\n",
              "  .colab-df-quickchart-complete:disabled:hover {\n",
              "    background-color: var(--disabled-bg-color);\n",
              "    fill: var(--disabled-fill-color);\n",
              "    box-shadow: none;\n",
              "  }\n",
              "\n",
              "  .colab-df-spinner {\n",
              "    border: 2px solid var(--fill-color);\n",
              "    border-color: transparent;\n",
              "    border-bottom-color: var(--fill-color);\n",
              "    animation:\n",
              "      spin 1s steps(1) infinite;\n",
              "  }\n",
              "\n",
              "  @keyframes spin {\n",
              "    0% {\n",
              "      border-color: transparent;\n",
              "      border-bottom-color: var(--fill-color);\n",
              "      border-left-color: var(--fill-color);\n",
              "    }\n",
              "    20% {\n",
              "      border-color: transparent;\n",
              "      border-left-color: var(--fill-color);\n",
              "      border-top-color: var(--fill-color);\n",
              "    }\n",
              "    30% {\n",
              "      border-color: transparent;\n",
              "      border-left-color: var(--fill-color);\n",
              "      border-top-color: var(--fill-color);\n",
              "      border-right-color: var(--fill-color);\n",
              "    }\n",
              "    40% {\n",
              "      border-color: transparent;\n",
              "      border-right-color: var(--fill-color);\n",
              "      border-top-color: var(--fill-color);\n",
              "    }\n",
              "    60% {\n",
              "      border-color: transparent;\n",
              "      border-right-color: var(--fill-color);\n",
              "    }\n",
              "    80% {\n",
              "      border-color: transparent;\n",
              "      border-right-color: var(--fill-color);\n",
              "      border-bottom-color: var(--fill-color);\n",
              "    }\n",
              "    90% {\n",
              "      border-color: transparent;\n",
              "      border-bottom-color: var(--fill-color);\n",
              "    }\n",
              "  }\n",
              "</style>\n",
              "\n",
              "  <script>\n",
              "    async function quickchart(key) {\n",
              "      const quickchartButtonEl =\n",
              "        document.querySelector('#' + key + ' button');\n",
              "      quickchartButtonEl.disabled = true;  // To prevent multiple clicks.\n",
              "      quickchartButtonEl.classList.add('colab-df-spinner');\n",
              "      try {\n",
              "        const charts = await google.colab.kernel.invokeFunction(\n",
              "            'suggestCharts', [key], {});\n",
              "      } catch (error) {\n",
              "        console.error('Error during call to suggestCharts:', error);\n",
              "      }\n",
              "      quickchartButtonEl.classList.remove('colab-df-spinner');\n",
              "      quickchartButtonEl.classList.add('colab-df-quickchart-complete');\n",
              "    }\n",
              "    (() => {\n",
              "      let quickchartButtonEl =\n",
              "        document.querySelector('#df-5a32c513-83e7-44ae-a34a-55a40dc2d405 button');\n",
              "      quickchartButtonEl.style.display =\n",
              "        google.colab.kernel.accessAllowed ? 'block' : 'none';\n",
              "    })();\n",
              "  </script>\n",
              "</div>\n",
              "\n",
              "    </div>\n",
              "  </div>\n"
            ],
            "application/vnd.google.colaboratory.intrinsic+json": {
              "type": "dataframe",
              "variable_name": "df2",
              "summary": "{\n  \"name\": \"df2\",\n  \"rows\": 4944,\n  \"fields\": [\n    {\n      \"column\": \"kitchen_f1\",\n      \"properties\": {\n        \"dtype\": \"number\",\n        \"std\": 0.08019912535967623,\n        \"min\": 0.0,\n        \"max\": 1.0,\n        \"num_unique_values\": 2,\n        \"samples\": [\n          0.0,\n          1.0\n        ],\n        \"semantic_type\": \"\",\n        \"description\": \"\"\n      }\n    },\n    {\n      \"column\": \"kitchen_f2\",\n      \"properties\": {\n        \"dtype\": \"number\",\n        \"std\": 0.11815639885168198,\n        \"min\": 0.0,\n        \"max\": 1.0,\n        \"num_unique_values\": 2,\n        \"samples\": [\n          0.0,\n          1.0\n        ],\n        \"semantic_type\": \"\",\n        \"description\": \"\"\n      }\n    },\n    {\n      \"column\": \"kitchen_f3\",\n      \"properties\": {\n        \"dtype\": \"number\",\n        \"std\": 0.1635750822749142,\n        \"min\": 0.0,\n        \"max\": 1.0,\n        \"num_unique_values\": 2,\n        \"samples\": [\n          0.0,\n          1.0\n        ],\n        \"semantic_type\": \"\",\n        \"description\": \"\"\n      }\n    },\n    {\n      \"column\": \"kitchen_f4\",\n      \"properties\": {\n        \"dtype\": \"number\",\n        \"std\": 0.26863367939893795,\n        \"min\": 0.0,\n        \"max\": 1.0,\n        \"num_unique_values\": 2,\n        \"samples\": [\n          0.0,\n          1.0\n        ],\n        \"semantic_type\": \"\",\n        \"description\": \"\"\n      }\n    },\n    {\n      \"column\": \"kitchen_f5\",\n      \"properties\": {\n        \"dtype\": \"number\",\n        \"std\": 0.4080332862463984,\n        \"min\": 0.0,\n        \"max\": 1.0,\n        \"num_unique_values\": 2,\n        \"samples\": [\n          1.0,\n          0.0\n        ],\n        \"semantic_type\": \"\",\n        \"description\": \"\"\n      }\n    },\n    {\n      \"column\": \"kitchen_f6\",\n      \"properties\": {\n        \"dtype\": \"number\",\n        \"std\": 0.49256944584130896,\n        \"min\": 0.0,\n        \"max\": 1.0,\n        \"num_unique_values\": 2,\n        \"samples\": [\n          1.0,\n          0.0\n        ],\n        \"semantic_type\": \"\",\n        \"description\": \"\"\n      }\n    },\n    {\n      \"column\": \"kitchen_f7\",\n      \"properties\": {\n        \"dtype\": \"number\",\n        \"std\": 0.4700022369537009,\n        \"min\": 0.0,\n        \"max\": 1.0,\n        \"num_unique_values\": 2,\n        \"samples\": [\n          1.0,\n          0.0\n        ],\n        \"semantic_type\": \"\",\n        \"description\": \"\"\n      }\n    },\n    {\n      \"column\": \"kitchen_f8\",\n      \"properties\": {\n        \"dtype\": \"number\",\n        \"std\": 0.4554973864541589,\n        \"min\": 0.0,\n        \"max\": 1.0,\n        \"num_unique_values\": 2,\n        \"samples\": [\n          1.0,\n          0.0\n        ],\n        \"semantic_type\": \"\",\n        \"description\": \"\"\n      }\n    },\n    {\n      \"column\": \"kitchen_f9\",\n      \"properties\": {\n        \"dtype\": \"number\",\n        \"std\": 0.4359371357809444,\n        \"min\": 0.0,\n        \"max\": 1.0,\n        \"num_unique_values\": 2,\n        \"samples\": [\n          1.0,\n          0.0\n        ],\n        \"semantic_type\": \"\",\n        \"description\": \"\"\n      }\n    },\n    {\n      \"column\": \"kitchen_f10\",\n      \"properties\": {\n        \"dtype\": \"number\",\n        \"std\": 0.40688199649683987,\n        \"min\": 0.0,\n        \"max\": 1.0,\n        \"num_unique_values\": 2,\n        \"samples\": [\n          1.0,\n          0.0\n        ],\n        \"semantic_type\": \"\",\n        \"description\": \"\"\n      }\n    },\n    {\n      \"column\": \"kitchen_f11\",\n      \"properties\": {\n        \"dtype\": \"number\",\n        \"std\": 0.3561930683421749,\n        \"min\": 0.0,\n        \"max\": 1.0,\n        \"num_unique_values\": 2,\n        \"samples\": [\n          1.0,\n          0.0\n        ],\n        \"semantic_type\": \"\",\n        \"description\": \"\"\n      }\n    },\n    {\n      \"column\": \"kitchen_f12\",\n      \"properties\": {\n        \"dtype\": \"number\",\n        \"std\": 0.29333398521837695,\n        \"min\": 0.0,\n        \"max\": 1.0,\n        \"num_unique_values\": 2,\n        \"samples\": [\n          1.0,\n          0.0\n        ],\n        \"semantic_type\": \"\",\n        \"description\": \"\"\n      }\n    },\n    {\n      \"column\": \"kitchen_f13\",\n      \"properties\": {\n        \"dtype\": \"number\",\n        \"std\": 0.21954704777827835,\n        \"min\": 0.0,\n        \"max\": 1.0,\n        \"num_unique_values\": 2,\n        \"samples\": [\n          1.0,\n          0.0\n        ],\n        \"semantic_type\": \"\",\n        \"description\": \"\"\n      }\n    },\n    {\n      \"column\": \"kitchen_f14\",\n      \"properties\": {\n        \"dtype\": \"number\",\n        \"std\": 0.1394023857757152,\n        \"min\": 0.0,\n        \"max\": 1.0,\n        \"num_unique_values\": 2,\n        \"samples\": [\n          1.0,\n          0.0\n        ],\n        \"semantic_type\": \"\",\n        \"description\": \"\"\n      }\n    },\n    {\n      \"column\": \"kitchen_f15\",\n      \"properties\": {\n        \"dtype\": \"number\",\n        \"std\": 0.05121588022513539,\n        \"min\": 0.0,\n        \"max\": 1.0,\n        \"num_unique_values\": 2,\n        \"samples\": [\n          1.0,\n          0.0\n        ],\n        \"semantic_type\": \"\",\n        \"description\": \"\"\n      }\n    },\n    {\n      \"column\": \"Kitchen_Sum\",\n      \"properties\": {\n        \"dtype\": \"number\",\n        \"std\": 3.0186637260946263,\n        \"min\": 0.0,\n        \"max\": 15.0,\n        \"num_unique_values\": 16,\n        \"samples\": [\n          4.0,\n          2.0\n        ],\n        \"semantic_type\": \"\",\n        \"description\": \"\"\n      }\n    }\n  ]\n}"
            }
          },
          "metadata": {},
          "execution_count": 47
        }
      ]
    },
    {
      "cell_type": "code",
      "source": [
        "df2['Kitchen_Sum']=df2.sum(axis=1)\n",
        "print(df2.head(5))\n"
      ],
      "metadata": {
        "id": "6n3bvueDCAMV",
        "colab": {
          "base_uri": "https://localhost:8080/"
        },
        "outputId": "261d05d3-306c-4667-f673-e19537a523da"
      },
      "execution_count": 48,
      "outputs": [
        {
          "output_type": "stream",
          "name": "stdout",
          "text": [
            "   kitchen_f1  kitchen_f2  kitchen_f3  kitchen_f4  kitchen_f5  kitchen_f6  \\\n",
            "0         1.0         1.0         1.0         1.0         0.0         0.0   \n",
            "1         1.0         1.0         0.0         0.0         0.0         0.0   \n",
            "3         1.0         1.0         1.0         1.0         0.0         0.0   \n",
            "4         1.0         1.0         1.0         1.0         1.0         0.0   \n",
            "5         1.0         1.0         1.0         1.0         1.0         0.0   \n",
            "\n",
            "   kitchen_f7  kitchen_f8  kitchen_f9  kitchen_f10  kitchen_f11  kitchen_f12  \\\n",
            "0         0.0         0.0         0.0          0.0          0.0          0.0   \n",
            "1         0.0         0.0         0.0          0.0          0.0          0.0   \n",
            "3         0.0         0.0         0.0          0.0          0.0          0.0   \n",
            "4         0.0         0.0         0.0          0.0          0.0          0.0   \n",
            "5         0.0         0.0         0.0          0.0          0.0          0.0   \n",
            "\n",
            "   kitchen_f13  kitchen_f14  kitchen_f15  Kitchen_Sum  \n",
            "0          0.0          0.0          0.0          8.0  \n",
            "1          0.0          0.0          0.0          4.0  \n",
            "3          0.0          0.0          0.0          8.0  \n",
            "4          0.0          0.0          0.0         10.0  \n",
            "5          0.0          0.0          0.0         10.0  \n"
          ]
        }
      ]
    },
    {
      "cell_type": "code",
      "source": [
        "df3.fillna(0)  #fill null value with zero\n",
        "df3.head()\n"
      ],
      "metadata": {
        "id": "w9fXFh7jCLCT",
        "colab": {
          "base_uri": "https://localhost:8080/",
          "height": 206
        },
        "outputId": "6eddfab2-b0a6-445d-b8e7-0a5bed722d67"
      },
      "execution_count": 49,
      "outputs": [
        {
          "output_type": "execute_result",
          "data": {
            "text/plain": [
              "   floor_c1  floor_c2  floor_c3  floor_c4  floor_c5  floor_c6  Floor_Sum\n",
              "0         1       1.0       0.0       0.0       0.0       0.0        2.0\n",
              "1         1       1.0       0.0       0.0       0.0       0.0        2.0\n",
              "3         1       1.0       1.0       0.0       0.0       0.0        3.0\n",
              "4         1       1.0       0.0       0.0       0.0       0.0        2.0\n",
              "5         1       1.0       1.0       0.0       0.0       0.0        3.0"
            ],
            "text/html": [
              "\n",
              "  <div id=\"df-72711064-6d0a-40fa-9930-2acf223ad409\" class=\"colab-df-container\">\n",
              "    <div>\n",
              "<style scoped>\n",
              "    .dataframe tbody tr th:only-of-type {\n",
              "        vertical-align: middle;\n",
              "    }\n",
              "\n",
              "    .dataframe tbody tr th {\n",
              "        vertical-align: top;\n",
              "    }\n",
              "\n",
              "    .dataframe thead th {\n",
              "        text-align: right;\n",
              "    }\n",
              "</style>\n",
              "<table border=\"1\" class=\"dataframe\">\n",
              "  <thead>\n",
              "    <tr style=\"text-align: right;\">\n",
              "      <th></th>\n",
              "      <th>floor_c1</th>\n",
              "      <th>floor_c2</th>\n",
              "      <th>floor_c3</th>\n",
              "      <th>floor_c4</th>\n",
              "      <th>floor_c5</th>\n",
              "      <th>floor_c6</th>\n",
              "      <th>Floor_Sum</th>\n",
              "    </tr>\n",
              "  </thead>\n",
              "  <tbody>\n",
              "    <tr>\n",
              "      <th>0</th>\n",
              "      <td>1</td>\n",
              "      <td>1.0</td>\n",
              "      <td>0.0</td>\n",
              "      <td>0.0</td>\n",
              "      <td>0.0</td>\n",
              "      <td>0.0</td>\n",
              "      <td>2.0</td>\n",
              "    </tr>\n",
              "    <tr>\n",
              "      <th>1</th>\n",
              "      <td>1</td>\n",
              "      <td>1.0</td>\n",
              "      <td>0.0</td>\n",
              "      <td>0.0</td>\n",
              "      <td>0.0</td>\n",
              "      <td>0.0</td>\n",
              "      <td>2.0</td>\n",
              "    </tr>\n",
              "    <tr>\n",
              "      <th>3</th>\n",
              "      <td>1</td>\n",
              "      <td>1.0</td>\n",
              "      <td>1.0</td>\n",
              "      <td>0.0</td>\n",
              "      <td>0.0</td>\n",
              "      <td>0.0</td>\n",
              "      <td>3.0</td>\n",
              "    </tr>\n",
              "    <tr>\n",
              "      <th>4</th>\n",
              "      <td>1</td>\n",
              "      <td>1.0</td>\n",
              "      <td>0.0</td>\n",
              "      <td>0.0</td>\n",
              "      <td>0.0</td>\n",
              "      <td>0.0</td>\n",
              "      <td>2.0</td>\n",
              "    </tr>\n",
              "    <tr>\n",
              "      <th>5</th>\n",
              "      <td>1</td>\n",
              "      <td>1.0</td>\n",
              "      <td>1.0</td>\n",
              "      <td>0.0</td>\n",
              "      <td>0.0</td>\n",
              "      <td>0.0</td>\n",
              "      <td>3.0</td>\n",
              "    </tr>\n",
              "  </tbody>\n",
              "</table>\n",
              "</div>\n",
              "    <div class=\"colab-df-buttons\">\n",
              "\n",
              "  <div class=\"colab-df-container\">\n",
              "    <button class=\"colab-df-convert\" onclick=\"convertToInteractive('df-72711064-6d0a-40fa-9930-2acf223ad409')\"\n",
              "            title=\"Convert this dataframe to an interactive table.\"\n",
              "            style=\"display:none;\">\n",
              "\n",
              "  <svg xmlns=\"http://www.w3.org/2000/svg\" height=\"24px\" viewBox=\"0 -960 960 960\">\n",
              "    <path d=\"M120-120v-720h720v720H120Zm60-500h600v-160H180v160Zm220 220h160v-160H400v160Zm0 220h160v-160H400v160ZM180-400h160v-160H180v160Zm440 0h160v-160H620v160ZM180-180h160v-160H180v160Zm440 0h160v-160H620v160Z\"/>\n",
              "  </svg>\n",
              "    </button>\n",
              "\n",
              "  <style>\n",
              "    .colab-df-container {\n",
              "      display:flex;\n",
              "      gap: 12px;\n",
              "    }\n",
              "\n",
              "    .colab-df-convert {\n",
              "      background-color: #E8F0FE;\n",
              "      border: none;\n",
              "      border-radius: 50%;\n",
              "      cursor: pointer;\n",
              "      display: none;\n",
              "      fill: #1967D2;\n",
              "      height: 32px;\n",
              "      padding: 0 0 0 0;\n",
              "      width: 32px;\n",
              "    }\n",
              "\n",
              "    .colab-df-convert:hover {\n",
              "      background-color: #E2EBFA;\n",
              "      box-shadow: 0px 1px 2px rgba(60, 64, 67, 0.3), 0px 1px 3px 1px rgba(60, 64, 67, 0.15);\n",
              "      fill: #174EA6;\n",
              "    }\n",
              "\n",
              "    .colab-df-buttons div {\n",
              "      margin-bottom: 4px;\n",
              "    }\n",
              "\n",
              "    [theme=dark] .colab-df-convert {\n",
              "      background-color: #3B4455;\n",
              "      fill: #D2E3FC;\n",
              "    }\n",
              "\n",
              "    [theme=dark] .colab-df-convert:hover {\n",
              "      background-color: #434B5C;\n",
              "      box-shadow: 0px 1px 3px 1px rgba(0, 0, 0, 0.15);\n",
              "      filter: drop-shadow(0px 1px 2px rgba(0, 0, 0, 0.3));\n",
              "      fill: #FFFFFF;\n",
              "    }\n",
              "  </style>\n",
              "\n",
              "    <script>\n",
              "      const buttonEl =\n",
              "        document.querySelector('#df-72711064-6d0a-40fa-9930-2acf223ad409 button.colab-df-convert');\n",
              "      buttonEl.style.display =\n",
              "        google.colab.kernel.accessAllowed ? 'block' : 'none';\n",
              "\n",
              "      async function convertToInteractive(key) {\n",
              "        const element = document.querySelector('#df-72711064-6d0a-40fa-9930-2acf223ad409');\n",
              "        const dataTable =\n",
              "          await google.colab.kernel.invokeFunction('convertToInteractive',\n",
              "                                                    [key], {});\n",
              "        if (!dataTable) return;\n",
              "\n",
              "        const docLinkHtml = 'Like what you see? Visit the ' +\n",
              "          '<a target=\"_blank\" href=https://colab.research.google.com/notebooks/data_table.ipynb>data table notebook</a>'\n",
              "          + ' to learn more about interactive tables.';\n",
              "        element.innerHTML = '';\n",
              "        dataTable['output_type'] = 'display_data';\n",
              "        await google.colab.output.renderOutput(dataTable, element);\n",
              "        const docLink = document.createElement('div');\n",
              "        docLink.innerHTML = docLinkHtml;\n",
              "        element.appendChild(docLink);\n",
              "      }\n",
              "    </script>\n",
              "  </div>\n",
              "\n",
              "\n",
              "<div id=\"df-672f325a-e51b-419f-8546-99a80e84644e\">\n",
              "  <button class=\"colab-df-quickchart\" onclick=\"quickchart('df-672f325a-e51b-419f-8546-99a80e84644e')\"\n",
              "            title=\"Suggest charts\"\n",
              "            style=\"display:none;\">\n",
              "\n",
              "<svg xmlns=\"http://www.w3.org/2000/svg\" height=\"24px\"viewBox=\"0 0 24 24\"\n",
              "     width=\"24px\">\n",
              "    <g>\n",
              "        <path d=\"M19 3H5c-1.1 0-2 .9-2 2v14c0 1.1.9 2 2 2h14c1.1 0 2-.9 2-2V5c0-1.1-.9-2-2-2zM9 17H7v-7h2v7zm4 0h-2V7h2v10zm4 0h-2v-4h2v4z\"/>\n",
              "    </g>\n",
              "</svg>\n",
              "  </button>\n",
              "\n",
              "<style>\n",
              "  .colab-df-quickchart {\n",
              "      --bg-color: #E8F0FE;\n",
              "      --fill-color: #1967D2;\n",
              "      --hover-bg-color: #E2EBFA;\n",
              "      --hover-fill-color: #174EA6;\n",
              "      --disabled-fill-color: #AAA;\n",
              "      --disabled-bg-color: #DDD;\n",
              "  }\n",
              "\n",
              "  [theme=dark] .colab-df-quickchart {\n",
              "      --bg-color: #3B4455;\n",
              "      --fill-color: #D2E3FC;\n",
              "      --hover-bg-color: #434B5C;\n",
              "      --hover-fill-color: #FFFFFF;\n",
              "      --disabled-bg-color: #3B4455;\n",
              "      --disabled-fill-color: #666;\n",
              "  }\n",
              "\n",
              "  .colab-df-quickchart {\n",
              "    background-color: var(--bg-color);\n",
              "    border: none;\n",
              "    border-radius: 50%;\n",
              "    cursor: pointer;\n",
              "    display: none;\n",
              "    fill: var(--fill-color);\n",
              "    height: 32px;\n",
              "    padding: 0;\n",
              "    width: 32px;\n",
              "  }\n",
              "\n",
              "  .colab-df-quickchart:hover {\n",
              "    background-color: var(--hover-bg-color);\n",
              "    box-shadow: 0 1px 2px rgba(60, 64, 67, 0.3), 0 1px 3px 1px rgba(60, 64, 67, 0.15);\n",
              "    fill: var(--button-hover-fill-color);\n",
              "  }\n",
              "\n",
              "  .colab-df-quickchart-complete:disabled,\n",
              "  .colab-df-quickchart-complete:disabled:hover {\n",
              "    background-color: var(--disabled-bg-color);\n",
              "    fill: var(--disabled-fill-color);\n",
              "    box-shadow: none;\n",
              "  }\n",
              "\n",
              "  .colab-df-spinner {\n",
              "    border: 2px solid var(--fill-color);\n",
              "    border-color: transparent;\n",
              "    border-bottom-color: var(--fill-color);\n",
              "    animation:\n",
              "      spin 1s steps(1) infinite;\n",
              "  }\n",
              "\n",
              "  @keyframes spin {\n",
              "    0% {\n",
              "      border-color: transparent;\n",
              "      border-bottom-color: var(--fill-color);\n",
              "      border-left-color: var(--fill-color);\n",
              "    }\n",
              "    20% {\n",
              "      border-color: transparent;\n",
              "      border-left-color: var(--fill-color);\n",
              "      border-top-color: var(--fill-color);\n",
              "    }\n",
              "    30% {\n",
              "      border-color: transparent;\n",
              "      border-left-color: var(--fill-color);\n",
              "      border-top-color: var(--fill-color);\n",
              "      border-right-color: var(--fill-color);\n",
              "    }\n",
              "    40% {\n",
              "      border-color: transparent;\n",
              "      border-right-color: var(--fill-color);\n",
              "      border-top-color: var(--fill-color);\n",
              "    }\n",
              "    60% {\n",
              "      border-color: transparent;\n",
              "      border-right-color: var(--fill-color);\n",
              "    }\n",
              "    80% {\n",
              "      border-color: transparent;\n",
              "      border-right-color: var(--fill-color);\n",
              "      border-bottom-color: var(--fill-color);\n",
              "    }\n",
              "    90% {\n",
              "      border-color: transparent;\n",
              "      border-bottom-color: var(--fill-color);\n",
              "    }\n",
              "  }\n",
              "</style>\n",
              "\n",
              "  <script>\n",
              "    async function quickchart(key) {\n",
              "      const quickchartButtonEl =\n",
              "        document.querySelector('#' + key + ' button');\n",
              "      quickchartButtonEl.disabled = true;  // To prevent multiple clicks.\n",
              "      quickchartButtonEl.classList.add('colab-df-spinner');\n",
              "      try {\n",
              "        const charts = await google.colab.kernel.invokeFunction(\n",
              "            'suggestCharts', [key], {});\n",
              "      } catch (error) {\n",
              "        console.error('Error during call to suggestCharts:', error);\n",
              "      }\n",
              "      quickchartButtonEl.classList.remove('colab-df-spinner');\n",
              "      quickchartButtonEl.classList.add('colab-df-quickchart-complete');\n",
              "    }\n",
              "    (() => {\n",
              "      let quickchartButtonEl =\n",
              "        document.querySelector('#df-672f325a-e51b-419f-8546-99a80e84644e button');\n",
              "      quickchartButtonEl.style.display =\n",
              "        google.colab.kernel.accessAllowed ? 'block' : 'none';\n",
              "    })();\n",
              "  </script>\n",
              "</div>\n",
              "\n",
              "    </div>\n",
              "  </div>\n"
            ],
            "application/vnd.google.colaboratory.intrinsic+json": {
              "type": "dataframe",
              "variable_name": "df3",
              "summary": "{\n  \"name\": \"df3\",\n  \"rows\": 4944,\n  \"fields\": [\n    {\n      \"column\": \"floor_c1\",\n      \"properties\": {\n        \"dtype\": \"number\",\n        \"std\": 0,\n        \"min\": 1,\n        \"max\": 1,\n        \"num_unique_values\": 1,\n        \"samples\": [\n          1\n        ],\n        \"semantic_type\": \"\",\n        \"description\": \"\"\n      }\n    },\n    {\n      \"column\": \"floor_c2\",\n      \"properties\": {\n        \"dtype\": \"number\",\n        \"std\": 0.3730771569381095,\n        \"min\": 0.0,\n        \"max\": 1.0,\n        \"num_unique_values\": 2,\n        \"samples\": [\n          0.0\n        ],\n        \"semantic_type\": \"\",\n        \"description\": \"\"\n      }\n    },\n    {\n      \"column\": \"floor_c3\",\n      \"properties\": {\n        \"dtype\": \"number\",\n        \"std\": 0.449605458896556,\n        \"min\": 0.0,\n        \"max\": 1.0,\n        \"num_unique_values\": 2,\n        \"samples\": [\n          1.0\n        ],\n        \"semantic_type\": \"\",\n        \"description\": \"\"\n      }\n    },\n    {\n      \"column\": \"floor_c4\",\n      \"properties\": {\n        \"dtype\": \"number\",\n        \"std\": 0.21450836273879167,\n        \"min\": 0.0,\n        \"max\": 1.0,\n        \"num_unique_values\": 2,\n        \"samples\": [\n          1.0\n        ],\n        \"semantic_type\": \"\",\n        \"description\": \"\"\n      }\n    },\n    {\n      \"column\": \"floor_c5\",\n      \"properties\": {\n        \"dtype\": \"number\",\n        \"std\": 0.05854384004531398,\n        \"min\": 0.0,\n        \"max\": 1.0,\n        \"num_unique_values\": 2,\n        \"samples\": [\n          1.0\n        ],\n        \"semantic_type\": \"\",\n        \"description\": \"\"\n      }\n    },\n    {\n      \"column\": \"floor_c6\",\n      \"properties\": {\n        \"dtype\": \"number\",\n        \"std\": 0.014222003099714688,\n        \"min\": 0.0,\n        \"max\": 1.0,\n        \"num_unique_values\": 2,\n        \"samples\": [\n          1.0\n        ],\n        \"semantic_type\": \"\",\n        \"description\": \"\"\n      }\n    },\n    {\n      \"column\": \"Floor_Sum\",\n      \"properties\": {\n        \"dtype\": \"number\",\n        \"std\": 0.7644573716623186,\n        \"min\": 1.0,\n        \"max\": 6.0,\n        \"num_unique_values\": 6,\n        \"samples\": [\n          2.0\n        ],\n        \"semantic_type\": \"\",\n        \"description\": \"\"\n      }\n    }\n  ]\n}"
            }
          },
          "metadata": {},
          "execution_count": 49
        }
      ]
    },
    {
      "cell_type": "code",
      "source": [
        "df3=df3.replace(regex={r'\\D+': 1});    #instead of string values, to write 1\n",
        "df3=df3.fillna(0)\n",
        "df3.head()"
      ],
      "metadata": {
        "id": "Y2Sb8CNVDE8z",
        "colab": {
          "base_uri": "https://localhost:8080/",
          "height": 206
        },
        "outputId": "2888e73f-9cc9-43c4-f206-55e366b15f9b"
      },
      "execution_count": 50,
      "outputs": [
        {
          "output_type": "execute_result",
          "data": {
            "text/plain": [
              "   floor_c1  floor_c2  floor_c3  floor_c4  floor_c5  floor_c6  Floor_Sum\n",
              "0         1       1.0       0.0       0.0       0.0       0.0        2.0\n",
              "1         1       1.0       0.0       0.0       0.0       0.0        2.0\n",
              "3         1       1.0       1.0       0.0       0.0       0.0        3.0\n",
              "4         1       1.0       0.0       0.0       0.0       0.0        2.0\n",
              "5         1       1.0       1.0       0.0       0.0       0.0        3.0"
            ],
            "text/html": [
              "\n",
              "  <div id=\"df-6622e82d-4986-4c11-9c0d-ac291695beb8\" class=\"colab-df-container\">\n",
              "    <div>\n",
              "<style scoped>\n",
              "    .dataframe tbody tr th:only-of-type {\n",
              "        vertical-align: middle;\n",
              "    }\n",
              "\n",
              "    .dataframe tbody tr th {\n",
              "        vertical-align: top;\n",
              "    }\n",
              "\n",
              "    .dataframe thead th {\n",
              "        text-align: right;\n",
              "    }\n",
              "</style>\n",
              "<table border=\"1\" class=\"dataframe\">\n",
              "  <thead>\n",
              "    <tr style=\"text-align: right;\">\n",
              "      <th></th>\n",
              "      <th>floor_c1</th>\n",
              "      <th>floor_c2</th>\n",
              "      <th>floor_c3</th>\n",
              "      <th>floor_c4</th>\n",
              "      <th>floor_c5</th>\n",
              "      <th>floor_c6</th>\n",
              "      <th>Floor_Sum</th>\n",
              "    </tr>\n",
              "  </thead>\n",
              "  <tbody>\n",
              "    <tr>\n",
              "      <th>0</th>\n",
              "      <td>1</td>\n",
              "      <td>1.0</td>\n",
              "      <td>0.0</td>\n",
              "      <td>0.0</td>\n",
              "      <td>0.0</td>\n",
              "      <td>0.0</td>\n",
              "      <td>2.0</td>\n",
              "    </tr>\n",
              "    <tr>\n",
              "      <th>1</th>\n",
              "      <td>1</td>\n",
              "      <td>1.0</td>\n",
              "      <td>0.0</td>\n",
              "      <td>0.0</td>\n",
              "      <td>0.0</td>\n",
              "      <td>0.0</td>\n",
              "      <td>2.0</td>\n",
              "    </tr>\n",
              "    <tr>\n",
              "      <th>3</th>\n",
              "      <td>1</td>\n",
              "      <td>1.0</td>\n",
              "      <td>1.0</td>\n",
              "      <td>0.0</td>\n",
              "      <td>0.0</td>\n",
              "      <td>0.0</td>\n",
              "      <td>3.0</td>\n",
              "    </tr>\n",
              "    <tr>\n",
              "      <th>4</th>\n",
              "      <td>1</td>\n",
              "      <td>1.0</td>\n",
              "      <td>0.0</td>\n",
              "      <td>0.0</td>\n",
              "      <td>0.0</td>\n",
              "      <td>0.0</td>\n",
              "      <td>2.0</td>\n",
              "    </tr>\n",
              "    <tr>\n",
              "      <th>5</th>\n",
              "      <td>1</td>\n",
              "      <td>1.0</td>\n",
              "      <td>1.0</td>\n",
              "      <td>0.0</td>\n",
              "      <td>0.0</td>\n",
              "      <td>0.0</td>\n",
              "      <td>3.0</td>\n",
              "    </tr>\n",
              "  </tbody>\n",
              "</table>\n",
              "</div>\n",
              "    <div class=\"colab-df-buttons\">\n",
              "\n",
              "  <div class=\"colab-df-container\">\n",
              "    <button class=\"colab-df-convert\" onclick=\"convertToInteractive('df-6622e82d-4986-4c11-9c0d-ac291695beb8')\"\n",
              "            title=\"Convert this dataframe to an interactive table.\"\n",
              "            style=\"display:none;\">\n",
              "\n",
              "  <svg xmlns=\"http://www.w3.org/2000/svg\" height=\"24px\" viewBox=\"0 -960 960 960\">\n",
              "    <path d=\"M120-120v-720h720v720H120Zm60-500h600v-160H180v160Zm220 220h160v-160H400v160Zm0 220h160v-160H400v160ZM180-400h160v-160H180v160Zm440 0h160v-160H620v160ZM180-180h160v-160H180v160Zm440 0h160v-160H620v160Z\"/>\n",
              "  </svg>\n",
              "    </button>\n",
              "\n",
              "  <style>\n",
              "    .colab-df-container {\n",
              "      display:flex;\n",
              "      gap: 12px;\n",
              "    }\n",
              "\n",
              "    .colab-df-convert {\n",
              "      background-color: #E8F0FE;\n",
              "      border: none;\n",
              "      border-radius: 50%;\n",
              "      cursor: pointer;\n",
              "      display: none;\n",
              "      fill: #1967D2;\n",
              "      height: 32px;\n",
              "      padding: 0 0 0 0;\n",
              "      width: 32px;\n",
              "    }\n",
              "\n",
              "    .colab-df-convert:hover {\n",
              "      background-color: #E2EBFA;\n",
              "      box-shadow: 0px 1px 2px rgba(60, 64, 67, 0.3), 0px 1px 3px 1px rgba(60, 64, 67, 0.15);\n",
              "      fill: #174EA6;\n",
              "    }\n",
              "\n",
              "    .colab-df-buttons div {\n",
              "      margin-bottom: 4px;\n",
              "    }\n",
              "\n",
              "    [theme=dark] .colab-df-convert {\n",
              "      background-color: #3B4455;\n",
              "      fill: #D2E3FC;\n",
              "    }\n",
              "\n",
              "    [theme=dark] .colab-df-convert:hover {\n",
              "      background-color: #434B5C;\n",
              "      box-shadow: 0px 1px 3px 1px rgba(0, 0, 0, 0.15);\n",
              "      filter: drop-shadow(0px 1px 2px rgba(0, 0, 0, 0.3));\n",
              "      fill: #FFFFFF;\n",
              "    }\n",
              "  </style>\n",
              "\n",
              "    <script>\n",
              "      const buttonEl =\n",
              "        document.querySelector('#df-6622e82d-4986-4c11-9c0d-ac291695beb8 button.colab-df-convert');\n",
              "      buttonEl.style.display =\n",
              "        google.colab.kernel.accessAllowed ? 'block' : 'none';\n",
              "\n",
              "      async function convertToInteractive(key) {\n",
              "        const element = document.querySelector('#df-6622e82d-4986-4c11-9c0d-ac291695beb8');\n",
              "        const dataTable =\n",
              "          await google.colab.kernel.invokeFunction('convertToInteractive',\n",
              "                                                    [key], {});\n",
              "        if (!dataTable) return;\n",
              "\n",
              "        const docLinkHtml = 'Like what you see? Visit the ' +\n",
              "          '<a target=\"_blank\" href=https://colab.research.google.com/notebooks/data_table.ipynb>data table notebook</a>'\n",
              "          + ' to learn more about interactive tables.';\n",
              "        element.innerHTML = '';\n",
              "        dataTable['output_type'] = 'display_data';\n",
              "        await google.colab.output.renderOutput(dataTable, element);\n",
              "        const docLink = document.createElement('div');\n",
              "        docLink.innerHTML = docLinkHtml;\n",
              "        element.appendChild(docLink);\n",
              "      }\n",
              "    </script>\n",
              "  </div>\n",
              "\n",
              "\n",
              "<div id=\"df-2f25f1a1-c3bd-42af-a27b-9bc019c8bf25\">\n",
              "  <button class=\"colab-df-quickchart\" onclick=\"quickchart('df-2f25f1a1-c3bd-42af-a27b-9bc019c8bf25')\"\n",
              "            title=\"Suggest charts\"\n",
              "            style=\"display:none;\">\n",
              "\n",
              "<svg xmlns=\"http://www.w3.org/2000/svg\" height=\"24px\"viewBox=\"0 0 24 24\"\n",
              "     width=\"24px\">\n",
              "    <g>\n",
              "        <path d=\"M19 3H5c-1.1 0-2 .9-2 2v14c0 1.1.9 2 2 2h14c1.1 0 2-.9 2-2V5c0-1.1-.9-2-2-2zM9 17H7v-7h2v7zm4 0h-2V7h2v10zm4 0h-2v-4h2v4z\"/>\n",
              "    </g>\n",
              "</svg>\n",
              "  </button>\n",
              "\n",
              "<style>\n",
              "  .colab-df-quickchart {\n",
              "      --bg-color: #E8F0FE;\n",
              "      --fill-color: #1967D2;\n",
              "      --hover-bg-color: #E2EBFA;\n",
              "      --hover-fill-color: #174EA6;\n",
              "      --disabled-fill-color: #AAA;\n",
              "      --disabled-bg-color: #DDD;\n",
              "  }\n",
              "\n",
              "  [theme=dark] .colab-df-quickchart {\n",
              "      --bg-color: #3B4455;\n",
              "      --fill-color: #D2E3FC;\n",
              "      --hover-bg-color: #434B5C;\n",
              "      --hover-fill-color: #FFFFFF;\n",
              "      --disabled-bg-color: #3B4455;\n",
              "      --disabled-fill-color: #666;\n",
              "  }\n",
              "\n",
              "  .colab-df-quickchart {\n",
              "    background-color: var(--bg-color);\n",
              "    border: none;\n",
              "    border-radius: 50%;\n",
              "    cursor: pointer;\n",
              "    display: none;\n",
              "    fill: var(--fill-color);\n",
              "    height: 32px;\n",
              "    padding: 0;\n",
              "    width: 32px;\n",
              "  }\n",
              "\n",
              "  .colab-df-quickchart:hover {\n",
              "    background-color: var(--hover-bg-color);\n",
              "    box-shadow: 0 1px 2px rgba(60, 64, 67, 0.3), 0 1px 3px 1px rgba(60, 64, 67, 0.15);\n",
              "    fill: var(--button-hover-fill-color);\n",
              "  }\n",
              "\n",
              "  .colab-df-quickchart-complete:disabled,\n",
              "  .colab-df-quickchart-complete:disabled:hover {\n",
              "    background-color: var(--disabled-bg-color);\n",
              "    fill: var(--disabled-fill-color);\n",
              "    box-shadow: none;\n",
              "  }\n",
              "\n",
              "  .colab-df-spinner {\n",
              "    border: 2px solid var(--fill-color);\n",
              "    border-color: transparent;\n",
              "    border-bottom-color: var(--fill-color);\n",
              "    animation:\n",
              "      spin 1s steps(1) infinite;\n",
              "  }\n",
              "\n",
              "  @keyframes spin {\n",
              "    0% {\n",
              "      border-color: transparent;\n",
              "      border-bottom-color: var(--fill-color);\n",
              "      border-left-color: var(--fill-color);\n",
              "    }\n",
              "    20% {\n",
              "      border-color: transparent;\n",
              "      border-left-color: var(--fill-color);\n",
              "      border-top-color: var(--fill-color);\n",
              "    }\n",
              "    30% {\n",
              "      border-color: transparent;\n",
              "      border-left-color: var(--fill-color);\n",
              "      border-top-color: var(--fill-color);\n",
              "      border-right-color: var(--fill-color);\n",
              "    }\n",
              "    40% {\n",
              "      border-color: transparent;\n",
              "      border-right-color: var(--fill-color);\n",
              "      border-top-color: var(--fill-color);\n",
              "    }\n",
              "    60% {\n",
              "      border-color: transparent;\n",
              "      border-right-color: var(--fill-color);\n",
              "    }\n",
              "    80% {\n",
              "      border-color: transparent;\n",
              "      border-right-color: var(--fill-color);\n",
              "      border-bottom-color: var(--fill-color);\n",
              "    }\n",
              "    90% {\n",
              "      border-color: transparent;\n",
              "      border-bottom-color: var(--fill-color);\n",
              "    }\n",
              "  }\n",
              "</style>\n",
              "\n",
              "  <script>\n",
              "    async function quickchart(key) {\n",
              "      const quickchartButtonEl =\n",
              "        document.querySelector('#' + key + ' button');\n",
              "      quickchartButtonEl.disabled = true;  // To prevent multiple clicks.\n",
              "      quickchartButtonEl.classList.add('colab-df-spinner');\n",
              "      try {\n",
              "        const charts = await google.colab.kernel.invokeFunction(\n",
              "            'suggestCharts', [key], {});\n",
              "      } catch (error) {\n",
              "        console.error('Error during call to suggestCharts:', error);\n",
              "      }\n",
              "      quickchartButtonEl.classList.remove('colab-df-spinner');\n",
              "      quickchartButtonEl.classList.add('colab-df-quickchart-complete');\n",
              "    }\n",
              "    (() => {\n",
              "      let quickchartButtonEl =\n",
              "        document.querySelector('#df-2f25f1a1-c3bd-42af-a27b-9bc019c8bf25 button');\n",
              "      quickchartButtonEl.style.display =\n",
              "        google.colab.kernel.accessAllowed ? 'block' : 'none';\n",
              "    })();\n",
              "  </script>\n",
              "</div>\n",
              "\n",
              "    </div>\n",
              "  </div>\n"
            ],
            "application/vnd.google.colaboratory.intrinsic+json": {
              "type": "dataframe",
              "variable_name": "df3",
              "summary": "{\n  \"name\": \"df3\",\n  \"rows\": 4944,\n  \"fields\": [\n    {\n      \"column\": \"floor_c1\",\n      \"properties\": {\n        \"dtype\": \"number\",\n        \"std\": 0,\n        \"min\": 1,\n        \"max\": 1,\n        \"num_unique_values\": 1,\n        \"samples\": [\n          1\n        ],\n        \"semantic_type\": \"\",\n        \"description\": \"\"\n      }\n    },\n    {\n      \"column\": \"floor_c2\",\n      \"properties\": {\n        \"dtype\": \"number\",\n        \"std\": 0.3730771569381095,\n        \"min\": 0.0,\n        \"max\": 1.0,\n        \"num_unique_values\": 2,\n        \"samples\": [\n          0.0\n        ],\n        \"semantic_type\": \"\",\n        \"description\": \"\"\n      }\n    },\n    {\n      \"column\": \"floor_c3\",\n      \"properties\": {\n        \"dtype\": \"number\",\n        \"std\": 0.449605458896556,\n        \"min\": 0.0,\n        \"max\": 1.0,\n        \"num_unique_values\": 2,\n        \"samples\": [\n          1.0\n        ],\n        \"semantic_type\": \"\",\n        \"description\": \"\"\n      }\n    },\n    {\n      \"column\": \"floor_c4\",\n      \"properties\": {\n        \"dtype\": \"number\",\n        \"std\": 0.21450836273879167,\n        \"min\": 0.0,\n        \"max\": 1.0,\n        \"num_unique_values\": 2,\n        \"samples\": [\n          1.0\n        ],\n        \"semantic_type\": \"\",\n        \"description\": \"\"\n      }\n    },\n    {\n      \"column\": \"floor_c5\",\n      \"properties\": {\n        \"dtype\": \"number\",\n        \"std\": 0.05854384004531398,\n        \"min\": 0.0,\n        \"max\": 1.0,\n        \"num_unique_values\": 2,\n        \"samples\": [\n          1.0\n        ],\n        \"semantic_type\": \"\",\n        \"description\": \"\"\n      }\n    },\n    {\n      \"column\": \"floor_c6\",\n      \"properties\": {\n        \"dtype\": \"number\",\n        \"std\": 0.014222003099714688,\n        \"min\": 0.0,\n        \"max\": 1.0,\n        \"num_unique_values\": 2,\n        \"samples\": [\n          1.0\n        ],\n        \"semantic_type\": \"\",\n        \"description\": \"\"\n      }\n    },\n    {\n      \"column\": \"Floor_Sum\",\n      \"properties\": {\n        \"dtype\": \"number\",\n        \"std\": 0.7644573716623186,\n        \"min\": 1.0,\n        \"max\": 6.0,\n        \"num_unique_values\": 6,\n        \"samples\": [\n          2.0\n        ],\n        \"semantic_type\": \"\",\n        \"description\": \"\"\n      }\n    }\n  ]\n}"
            }
          },
          "metadata": {},
          "execution_count": 50
        }
      ]
    },
    {
      "cell_type": "code",
      "source": [
        "df3['Floor_Sum']=df3.sum(axis=1)\n",
        "\n",
        "df3.head(5)\n",
        "df2.head(5)"
      ],
      "metadata": {
        "id": "sfrpkw3vCTZn",
        "colab": {
          "base_uri": "https://localhost:8080/",
          "height": 206
        },
        "outputId": "f22dfbde-bcea-48fa-cff1-ef091a5e9305"
      },
      "execution_count": 51,
      "outputs": [
        {
          "output_type": "execute_result",
          "data": {
            "text/plain": [
              "   kitchen_f1  kitchen_f2  kitchen_f3  kitchen_f4  kitchen_f5  kitchen_f6  \\\n",
              "0         1.0         1.0         1.0         1.0         0.0         0.0   \n",
              "1         1.0         1.0         0.0         0.0         0.0         0.0   \n",
              "3         1.0         1.0         1.0         1.0         0.0         0.0   \n",
              "4         1.0         1.0         1.0         1.0         1.0         0.0   \n",
              "5         1.0         1.0         1.0         1.0         1.0         0.0   \n",
              "\n",
              "   kitchen_f7  kitchen_f8  kitchen_f9  kitchen_f10  kitchen_f11  kitchen_f12  \\\n",
              "0         0.0         0.0         0.0          0.0          0.0          0.0   \n",
              "1         0.0         0.0         0.0          0.0          0.0          0.0   \n",
              "3         0.0         0.0         0.0          0.0          0.0          0.0   \n",
              "4         0.0         0.0         0.0          0.0          0.0          0.0   \n",
              "5         0.0         0.0         0.0          0.0          0.0          0.0   \n",
              "\n",
              "   kitchen_f13  kitchen_f14  kitchen_f15  Kitchen_Sum  \n",
              "0          0.0          0.0          0.0          8.0  \n",
              "1          0.0          0.0          0.0          4.0  \n",
              "3          0.0          0.0          0.0          8.0  \n",
              "4          0.0          0.0          0.0         10.0  \n",
              "5          0.0          0.0          0.0         10.0  "
            ],
            "text/html": [
              "\n",
              "  <div id=\"df-7639222a-1acc-4d4c-a755-01241b2aa434\" class=\"colab-df-container\">\n",
              "    <div>\n",
              "<style scoped>\n",
              "    .dataframe tbody tr th:only-of-type {\n",
              "        vertical-align: middle;\n",
              "    }\n",
              "\n",
              "    .dataframe tbody tr th {\n",
              "        vertical-align: top;\n",
              "    }\n",
              "\n",
              "    .dataframe thead th {\n",
              "        text-align: right;\n",
              "    }\n",
              "</style>\n",
              "<table border=\"1\" class=\"dataframe\">\n",
              "  <thead>\n",
              "    <tr style=\"text-align: right;\">\n",
              "      <th></th>\n",
              "      <th>kitchen_f1</th>\n",
              "      <th>kitchen_f2</th>\n",
              "      <th>kitchen_f3</th>\n",
              "      <th>kitchen_f4</th>\n",
              "      <th>kitchen_f5</th>\n",
              "      <th>kitchen_f6</th>\n",
              "      <th>kitchen_f7</th>\n",
              "      <th>kitchen_f8</th>\n",
              "      <th>kitchen_f9</th>\n",
              "      <th>kitchen_f10</th>\n",
              "      <th>kitchen_f11</th>\n",
              "      <th>kitchen_f12</th>\n",
              "      <th>kitchen_f13</th>\n",
              "      <th>kitchen_f14</th>\n",
              "      <th>kitchen_f15</th>\n",
              "      <th>Kitchen_Sum</th>\n",
              "    </tr>\n",
              "  </thead>\n",
              "  <tbody>\n",
              "    <tr>\n",
              "      <th>0</th>\n",
              "      <td>1.0</td>\n",
              "      <td>1.0</td>\n",
              "      <td>1.0</td>\n",
              "      <td>1.0</td>\n",
              "      <td>0.0</td>\n",
              "      <td>0.0</td>\n",
              "      <td>0.0</td>\n",
              "      <td>0.0</td>\n",
              "      <td>0.0</td>\n",
              "      <td>0.0</td>\n",
              "      <td>0.0</td>\n",
              "      <td>0.0</td>\n",
              "      <td>0.0</td>\n",
              "      <td>0.0</td>\n",
              "      <td>0.0</td>\n",
              "      <td>8.0</td>\n",
              "    </tr>\n",
              "    <tr>\n",
              "      <th>1</th>\n",
              "      <td>1.0</td>\n",
              "      <td>1.0</td>\n",
              "      <td>0.0</td>\n",
              "      <td>0.0</td>\n",
              "      <td>0.0</td>\n",
              "      <td>0.0</td>\n",
              "      <td>0.0</td>\n",
              "      <td>0.0</td>\n",
              "      <td>0.0</td>\n",
              "      <td>0.0</td>\n",
              "      <td>0.0</td>\n",
              "      <td>0.0</td>\n",
              "      <td>0.0</td>\n",
              "      <td>0.0</td>\n",
              "      <td>0.0</td>\n",
              "      <td>4.0</td>\n",
              "    </tr>\n",
              "    <tr>\n",
              "      <th>3</th>\n",
              "      <td>1.0</td>\n",
              "      <td>1.0</td>\n",
              "      <td>1.0</td>\n",
              "      <td>1.0</td>\n",
              "      <td>0.0</td>\n",
              "      <td>0.0</td>\n",
              "      <td>0.0</td>\n",
              "      <td>0.0</td>\n",
              "      <td>0.0</td>\n",
              "      <td>0.0</td>\n",
              "      <td>0.0</td>\n",
              "      <td>0.0</td>\n",
              "      <td>0.0</td>\n",
              "      <td>0.0</td>\n",
              "      <td>0.0</td>\n",
              "      <td>8.0</td>\n",
              "    </tr>\n",
              "    <tr>\n",
              "      <th>4</th>\n",
              "      <td>1.0</td>\n",
              "      <td>1.0</td>\n",
              "      <td>1.0</td>\n",
              "      <td>1.0</td>\n",
              "      <td>1.0</td>\n",
              "      <td>0.0</td>\n",
              "      <td>0.0</td>\n",
              "      <td>0.0</td>\n",
              "      <td>0.0</td>\n",
              "      <td>0.0</td>\n",
              "      <td>0.0</td>\n",
              "      <td>0.0</td>\n",
              "      <td>0.0</td>\n",
              "      <td>0.0</td>\n",
              "      <td>0.0</td>\n",
              "      <td>10.0</td>\n",
              "    </tr>\n",
              "    <tr>\n",
              "      <th>5</th>\n",
              "      <td>1.0</td>\n",
              "      <td>1.0</td>\n",
              "      <td>1.0</td>\n",
              "      <td>1.0</td>\n",
              "      <td>1.0</td>\n",
              "      <td>0.0</td>\n",
              "      <td>0.0</td>\n",
              "      <td>0.0</td>\n",
              "      <td>0.0</td>\n",
              "      <td>0.0</td>\n",
              "      <td>0.0</td>\n",
              "      <td>0.0</td>\n",
              "      <td>0.0</td>\n",
              "      <td>0.0</td>\n",
              "      <td>0.0</td>\n",
              "      <td>10.0</td>\n",
              "    </tr>\n",
              "  </tbody>\n",
              "</table>\n",
              "</div>\n",
              "    <div class=\"colab-df-buttons\">\n",
              "\n",
              "  <div class=\"colab-df-container\">\n",
              "    <button class=\"colab-df-convert\" onclick=\"convertToInteractive('df-7639222a-1acc-4d4c-a755-01241b2aa434')\"\n",
              "            title=\"Convert this dataframe to an interactive table.\"\n",
              "            style=\"display:none;\">\n",
              "\n",
              "  <svg xmlns=\"http://www.w3.org/2000/svg\" height=\"24px\" viewBox=\"0 -960 960 960\">\n",
              "    <path d=\"M120-120v-720h720v720H120Zm60-500h600v-160H180v160Zm220 220h160v-160H400v160Zm0 220h160v-160H400v160ZM180-400h160v-160H180v160Zm440 0h160v-160H620v160ZM180-180h160v-160H180v160Zm440 0h160v-160H620v160Z\"/>\n",
              "  </svg>\n",
              "    </button>\n",
              "\n",
              "  <style>\n",
              "    .colab-df-container {\n",
              "      display:flex;\n",
              "      gap: 12px;\n",
              "    }\n",
              "\n",
              "    .colab-df-convert {\n",
              "      background-color: #E8F0FE;\n",
              "      border: none;\n",
              "      border-radius: 50%;\n",
              "      cursor: pointer;\n",
              "      display: none;\n",
              "      fill: #1967D2;\n",
              "      height: 32px;\n",
              "      padding: 0 0 0 0;\n",
              "      width: 32px;\n",
              "    }\n",
              "\n",
              "    .colab-df-convert:hover {\n",
              "      background-color: #E2EBFA;\n",
              "      box-shadow: 0px 1px 2px rgba(60, 64, 67, 0.3), 0px 1px 3px 1px rgba(60, 64, 67, 0.15);\n",
              "      fill: #174EA6;\n",
              "    }\n",
              "\n",
              "    .colab-df-buttons div {\n",
              "      margin-bottom: 4px;\n",
              "    }\n",
              "\n",
              "    [theme=dark] .colab-df-convert {\n",
              "      background-color: #3B4455;\n",
              "      fill: #D2E3FC;\n",
              "    }\n",
              "\n",
              "    [theme=dark] .colab-df-convert:hover {\n",
              "      background-color: #434B5C;\n",
              "      box-shadow: 0px 1px 3px 1px rgba(0, 0, 0, 0.15);\n",
              "      filter: drop-shadow(0px 1px 2px rgba(0, 0, 0, 0.3));\n",
              "      fill: #FFFFFF;\n",
              "    }\n",
              "  </style>\n",
              "\n",
              "    <script>\n",
              "      const buttonEl =\n",
              "        document.querySelector('#df-7639222a-1acc-4d4c-a755-01241b2aa434 button.colab-df-convert');\n",
              "      buttonEl.style.display =\n",
              "        google.colab.kernel.accessAllowed ? 'block' : 'none';\n",
              "\n",
              "      async function convertToInteractive(key) {\n",
              "        const element = document.querySelector('#df-7639222a-1acc-4d4c-a755-01241b2aa434');\n",
              "        const dataTable =\n",
              "          await google.colab.kernel.invokeFunction('convertToInteractive',\n",
              "                                                    [key], {});\n",
              "        if (!dataTable) return;\n",
              "\n",
              "        const docLinkHtml = 'Like what you see? Visit the ' +\n",
              "          '<a target=\"_blank\" href=https://colab.research.google.com/notebooks/data_table.ipynb>data table notebook</a>'\n",
              "          + ' to learn more about interactive tables.';\n",
              "        element.innerHTML = '';\n",
              "        dataTable['output_type'] = 'display_data';\n",
              "        await google.colab.output.renderOutput(dataTable, element);\n",
              "        const docLink = document.createElement('div');\n",
              "        docLink.innerHTML = docLinkHtml;\n",
              "        element.appendChild(docLink);\n",
              "      }\n",
              "    </script>\n",
              "  </div>\n",
              "\n",
              "\n",
              "<div id=\"df-ea0ef1d0-7e35-4a8c-bf36-1afe1c322441\">\n",
              "  <button class=\"colab-df-quickchart\" onclick=\"quickchart('df-ea0ef1d0-7e35-4a8c-bf36-1afe1c322441')\"\n",
              "            title=\"Suggest charts\"\n",
              "            style=\"display:none;\">\n",
              "\n",
              "<svg xmlns=\"http://www.w3.org/2000/svg\" height=\"24px\"viewBox=\"0 0 24 24\"\n",
              "     width=\"24px\">\n",
              "    <g>\n",
              "        <path d=\"M19 3H5c-1.1 0-2 .9-2 2v14c0 1.1.9 2 2 2h14c1.1 0 2-.9 2-2V5c0-1.1-.9-2-2-2zM9 17H7v-7h2v7zm4 0h-2V7h2v10zm4 0h-2v-4h2v4z\"/>\n",
              "    </g>\n",
              "</svg>\n",
              "  </button>\n",
              "\n",
              "<style>\n",
              "  .colab-df-quickchart {\n",
              "      --bg-color: #E8F0FE;\n",
              "      --fill-color: #1967D2;\n",
              "      --hover-bg-color: #E2EBFA;\n",
              "      --hover-fill-color: #174EA6;\n",
              "      --disabled-fill-color: #AAA;\n",
              "      --disabled-bg-color: #DDD;\n",
              "  }\n",
              "\n",
              "  [theme=dark] .colab-df-quickchart {\n",
              "      --bg-color: #3B4455;\n",
              "      --fill-color: #D2E3FC;\n",
              "      --hover-bg-color: #434B5C;\n",
              "      --hover-fill-color: #FFFFFF;\n",
              "      --disabled-bg-color: #3B4455;\n",
              "      --disabled-fill-color: #666;\n",
              "  }\n",
              "\n",
              "  .colab-df-quickchart {\n",
              "    background-color: var(--bg-color);\n",
              "    border: none;\n",
              "    border-radius: 50%;\n",
              "    cursor: pointer;\n",
              "    display: none;\n",
              "    fill: var(--fill-color);\n",
              "    height: 32px;\n",
              "    padding: 0;\n",
              "    width: 32px;\n",
              "  }\n",
              "\n",
              "  .colab-df-quickchart:hover {\n",
              "    background-color: var(--hover-bg-color);\n",
              "    box-shadow: 0 1px 2px rgba(60, 64, 67, 0.3), 0 1px 3px 1px rgba(60, 64, 67, 0.15);\n",
              "    fill: var(--button-hover-fill-color);\n",
              "  }\n",
              "\n",
              "  .colab-df-quickchart-complete:disabled,\n",
              "  .colab-df-quickchart-complete:disabled:hover {\n",
              "    background-color: var(--disabled-bg-color);\n",
              "    fill: var(--disabled-fill-color);\n",
              "    box-shadow: none;\n",
              "  }\n",
              "\n",
              "  .colab-df-spinner {\n",
              "    border: 2px solid var(--fill-color);\n",
              "    border-color: transparent;\n",
              "    border-bottom-color: var(--fill-color);\n",
              "    animation:\n",
              "      spin 1s steps(1) infinite;\n",
              "  }\n",
              "\n",
              "  @keyframes spin {\n",
              "    0% {\n",
              "      border-color: transparent;\n",
              "      border-bottom-color: var(--fill-color);\n",
              "      border-left-color: var(--fill-color);\n",
              "    }\n",
              "    20% {\n",
              "      border-color: transparent;\n",
              "      border-left-color: var(--fill-color);\n",
              "      border-top-color: var(--fill-color);\n",
              "    }\n",
              "    30% {\n",
              "      border-color: transparent;\n",
              "      border-left-color: var(--fill-color);\n",
              "      border-top-color: var(--fill-color);\n",
              "      border-right-color: var(--fill-color);\n",
              "    }\n",
              "    40% {\n",
              "      border-color: transparent;\n",
              "      border-right-color: var(--fill-color);\n",
              "      border-top-color: var(--fill-color);\n",
              "    }\n",
              "    60% {\n",
              "      border-color: transparent;\n",
              "      border-right-color: var(--fill-color);\n",
              "    }\n",
              "    80% {\n",
              "      border-color: transparent;\n",
              "      border-right-color: var(--fill-color);\n",
              "      border-bottom-color: var(--fill-color);\n",
              "    }\n",
              "    90% {\n",
              "      border-color: transparent;\n",
              "      border-bottom-color: var(--fill-color);\n",
              "    }\n",
              "  }\n",
              "</style>\n",
              "\n",
              "  <script>\n",
              "    async function quickchart(key) {\n",
              "      const quickchartButtonEl =\n",
              "        document.querySelector('#' + key + ' button');\n",
              "      quickchartButtonEl.disabled = true;  // To prevent multiple clicks.\n",
              "      quickchartButtonEl.classList.add('colab-df-spinner');\n",
              "      try {\n",
              "        const charts = await google.colab.kernel.invokeFunction(\n",
              "            'suggestCharts', [key], {});\n",
              "      } catch (error) {\n",
              "        console.error('Error during call to suggestCharts:', error);\n",
              "      }\n",
              "      quickchartButtonEl.classList.remove('colab-df-spinner');\n",
              "      quickchartButtonEl.classList.add('colab-df-quickchart-complete');\n",
              "    }\n",
              "    (() => {\n",
              "      let quickchartButtonEl =\n",
              "        document.querySelector('#df-ea0ef1d0-7e35-4a8c-bf36-1afe1c322441 button');\n",
              "      quickchartButtonEl.style.display =\n",
              "        google.colab.kernel.accessAllowed ? 'block' : 'none';\n",
              "    })();\n",
              "  </script>\n",
              "</div>\n",
              "\n",
              "    </div>\n",
              "  </div>\n"
            ],
            "application/vnd.google.colaboratory.intrinsic+json": {
              "type": "dataframe",
              "variable_name": "df2",
              "summary": "{\n  \"name\": \"df2\",\n  \"rows\": 4944,\n  \"fields\": [\n    {\n      \"column\": \"kitchen_f1\",\n      \"properties\": {\n        \"dtype\": \"number\",\n        \"std\": 0.08019912535967623,\n        \"min\": 0.0,\n        \"max\": 1.0,\n        \"num_unique_values\": 2,\n        \"samples\": [\n          0.0,\n          1.0\n        ],\n        \"semantic_type\": \"\",\n        \"description\": \"\"\n      }\n    },\n    {\n      \"column\": \"kitchen_f2\",\n      \"properties\": {\n        \"dtype\": \"number\",\n        \"std\": 0.11815639885168198,\n        \"min\": 0.0,\n        \"max\": 1.0,\n        \"num_unique_values\": 2,\n        \"samples\": [\n          0.0,\n          1.0\n        ],\n        \"semantic_type\": \"\",\n        \"description\": \"\"\n      }\n    },\n    {\n      \"column\": \"kitchen_f3\",\n      \"properties\": {\n        \"dtype\": \"number\",\n        \"std\": 0.1635750822749142,\n        \"min\": 0.0,\n        \"max\": 1.0,\n        \"num_unique_values\": 2,\n        \"samples\": [\n          0.0,\n          1.0\n        ],\n        \"semantic_type\": \"\",\n        \"description\": \"\"\n      }\n    },\n    {\n      \"column\": \"kitchen_f4\",\n      \"properties\": {\n        \"dtype\": \"number\",\n        \"std\": 0.26863367939893795,\n        \"min\": 0.0,\n        \"max\": 1.0,\n        \"num_unique_values\": 2,\n        \"samples\": [\n          0.0,\n          1.0\n        ],\n        \"semantic_type\": \"\",\n        \"description\": \"\"\n      }\n    },\n    {\n      \"column\": \"kitchen_f5\",\n      \"properties\": {\n        \"dtype\": \"number\",\n        \"std\": 0.4080332862463984,\n        \"min\": 0.0,\n        \"max\": 1.0,\n        \"num_unique_values\": 2,\n        \"samples\": [\n          1.0,\n          0.0\n        ],\n        \"semantic_type\": \"\",\n        \"description\": \"\"\n      }\n    },\n    {\n      \"column\": \"kitchen_f6\",\n      \"properties\": {\n        \"dtype\": \"number\",\n        \"std\": 0.49256944584130896,\n        \"min\": 0.0,\n        \"max\": 1.0,\n        \"num_unique_values\": 2,\n        \"samples\": [\n          1.0,\n          0.0\n        ],\n        \"semantic_type\": \"\",\n        \"description\": \"\"\n      }\n    },\n    {\n      \"column\": \"kitchen_f7\",\n      \"properties\": {\n        \"dtype\": \"number\",\n        \"std\": 0.4700022369537009,\n        \"min\": 0.0,\n        \"max\": 1.0,\n        \"num_unique_values\": 2,\n        \"samples\": [\n          1.0,\n          0.0\n        ],\n        \"semantic_type\": \"\",\n        \"description\": \"\"\n      }\n    },\n    {\n      \"column\": \"kitchen_f8\",\n      \"properties\": {\n        \"dtype\": \"number\",\n        \"std\": 0.4554973864541589,\n        \"min\": 0.0,\n        \"max\": 1.0,\n        \"num_unique_values\": 2,\n        \"samples\": [\n          1.0,\n          0.0\n        ],\n        \"semantic_type\": \"\",\n        \"description\": \"\"\n      }\n    },\n    {\n      \"column\": \"kitchen_f9\",\n      \"properties\": {\n        \"dtype\": \"number\",\n        \"std\": 0.4359371357809444,\n        \"min\": 0.0,\n        \"max\": 1.0,\n        \"num_unique_values\": 2,\n        \"samples\": [\n          1.0,\n          0.0\n        ],\n        \"semantic_type\": \"\",\n        \"description\": \"\"\n      }\n    },\n    {\n      \"column\": \"kitchen_f10\",\n      \"properties\": {\n        \"dtype\": \"number\",\n        \"std\": 0.40688199649683987,\n        \"min\": 0.0,\n        \"max\": 1.0,\n        \"num_unique_values\": 2,\n        \"samples\": [\n          1.0,\n          0.0\n        ],\n        \"semantic_type\": \"\",\n        \"description\": \"\"\n      }\n    },\n    {\n      \"column\": \"kitchen_f11\",\n      \"properties\": {\n        \"dtype\": \"number\",\n        \"std\": 0.3561930683421749,\n        \"min\": 0.0,\n        \"max\": 1.0,\n        \"num_unique_values\": 2,\n        \"samples\": [\n          1.0,\n          0.0\n        ],\n        \"semantic_type\": \"\",\n        \"description\": \"\"\n      }\n    },\n    {\n      \"column\": \"kitchen_f12\",\n      \"properties\": {\n        \"dtype\": \"number\",\n        \"std\": 0.29333398521837695,\n        \"min\": 0.0,\n        \"max\": 1.0,\n        \"num_unique_values\": 2,\n        \"samples\": [\n          1.0,\n          0.0\n        ],\n        \"semantic_type\": \"\",\n        \"description\": \"\"\n      }\n    },\n    {\n      \"column\": \"kitchen_f13\",\n      \"properties\": {\n        \"dtype\": \"number\",\n        \"std\": 0.21954704777827835,\n        \"min\": 0.0,\n        \"max\": 1.0,\n        \"num_unique_values\": 2,\n        \"samples\": [\n          1.0,\n          0.0\n        ],\n        \"semantic_type\": \"\",\n        \"description\": \"\"\n      }\n    },\n    {\n      \"column\": \"kitchen_f14\",\n      \"properties\": {\n        \"dtype\": \"number\",\n        \"std\": 0.1394023857757152,\n        \"min\": 0.0,\n        \"max\": 1.0,\n        \"num_unique_values\": 2,\n        \"samples\": [\n          1.0,\n          0.0\n        ],\n        \"semantic_type\": \"\",\n        \"description\": \"\"\n      }\n    },\n    {\n      \"column\": \"kitchen_f15\",\n      \"properties\": {\n        \"dtype\": \"number\",\n        \"std\": 0.05121588022513539,\n        \"min\": 0.0,\n        \"max\": 1.0,\n        \"num_unique_values\": 2,\n        \"samples\": [\n          1.0,\n          0.0\n        ],\n        \"semantic_type\": \"\",\n        \"description\": \"\"\n      }\n    },\n    {\n      \"column\": \"Kitchen_Sum\",\n      \"properties\": {\n        \"dtype\": \"number\",\n        \"std\": 6.037327452189253,\n        \"min\": 0.0,\n        \"max\": 30.0,\n        \"num_unique_values\": 16,\n        \"samples\": [\n          8.0,\n          4.0\n        ],\n        \"semantic_type\": \"\",\n        \"description\": \"\"\n      }\n    }\n  ]\n}"
            }
          },
          "metadata": {},
          "execution_count": 51
        }
      ]
    },
    {
      "cell_type": "code",
      "source": [
        "df_new= pd.concat([df2,df3], axis=1)\n",
        "df_final_merge= pd.concat([final_val,df_new], axis=1)\n"
      ],
      "metadata": {
        "id": "nRYSllRa94w-"
      },
      "execution_count": 52,
      "outputs": []
    },
    {
      "cell_type": "code",
      "source": [
        "df_final_merge.head(5)\n",
        "df_final_merge.shape\n"
      ],
      "metadata": {
        "colab": {
          "base_uri": "https://localhost:8080/"
        },
        "id": "z11isYCG6ctW",
        "outputId": "899b9fe9-591f-4ee1-aa5c-5463630a9d8f"
      },
      "execution_count": 54,
      "outputs": [
        {
          "output_type": "execute_result",
          "data": {
            "text/plain": [
              "(4944, 42)"
            ]
          },
          "metadata": {},
          "execution_count": 54
        }
      ]
    },
    {
      "cell_type": "code",
      "source": [
        "train_ratio = 0.9\n",
        "\n",
        "train_data_regres = df_final_merge.sample(frac=train_ratio, random_state=42)\n",
        "test_data_regres = df_final_merge.drop(train_data_regres.index)\n",
        "\n",
        "print(train_data_regres.shape)\n",
        "print(test_data_regres.shape)"
      ],
      "metadata": {
        "colab": {
          "base_uri": "https://localhost:8080/"
        },
        "id": "D2ZuakZN3CHh",
        "outputId": "9c3b42e6-0716-493a-9954-d4125eef0aa8"
      },
      "execution_count": 55,
      "outputs": [
        {
          "output_type": "stream",
          "name": "stdout",
          "text": [
            "(4450, 42)\n",
            "(494, 42)\n"
          ]
        }
      ]
    },
    {
      "cell_type": "code",
      "source": [
        "class KNNRegressor():\n",
        "\n",
        " def fit(self,X,y):\n",
        "  self.X=X\n",
        "  self.y=y\n",
        "\n",
        " def predict(self,X,K,epsilon =1e-3):\n",
        "\n",
        "  N=len(X)\n",
        "  y_hat= np.zeros(N)\n",
        "\n",
        "  for i in range(N):\n",
        "    dist2 =np.sum((self.X-X[i])**2,axis=1)\n",
        "    idxt = np.argsort(dist2)[:K]\n",
        "    gamma_k = np.exp(-dist2[idxt])/(np.exp(-dist2[idxt]).sum()+epsilon)\n",
        "    y_hat[i] = gamma_k.dot(self.y[idxt])\n",
        "\n",
        "  return y_hat\n"
      ],
      "metadata": {
        "id": "GUIxoCCBctJ-"
      },
      "execution_count": 56,
      "outputs": []
    },
    {
      "cell_type": "code",
      "source": [
        "#X_regres_train=train_data_regres[['latitude', 'longitude', 'Number of Rooms','Price per Sqft','Floor_Sum','Kitchen_Sum','House_Age']].apply(lambda x: x.fillna(x.median())).to_numpy().astype('int64')\n",
        "\n",
        "X_regres_train=train_data_regres[['Number of Rooms','Price per Sqft','Floor_Sum','Kitchen_Sum','House_Age','Price_Bin']].to_numpy().astype('int64')\n",
        "\n",
        "#X_regres_train=train_data_regres[['Number of Rooms','Price per Sqft','Floor_Sum','Kitchen_Sum','House_Age','Price_Bin']].to_numpy().astype('int64')"
      ],
      "metadata": {
        "id": "sxZ6PBJLEUN4"
      },
      "execution_count": 103,
      "outputs": []
    },
    {
      "cell_type": "code",
      "source": [
        "#X_regres_test=test_data_regres[['latitude', 'longitude', 'Number of Rooms', 'Price per Sqft','Floor_Sum','Kitchen_Sum','House_Age']].apply(lambda x: x.fillna(x.median())).to_numpy().astype('int64')\n",
        "\n",
        "X_regres_test=test_data_regres[[ 'Number of Rooms', 'Price per Sqft','Floor_Sum','Kitchen_Sum','House_Age','Price_Bin']].to_numpy().astype('int64')\n",
        "\n",
        "#X_regres_test=test_data_regres[[ 'Number of Rooms', 'Price per Sqft','Floor_Sum','Kitchen_Sum','House_Age','Price_Bin']].to_numpy().astype('int64')"
      ],
      "metadata": {
        "id": "Av5fHyMy8Ve3"
      },
      "execution_count": 104,
      "outputs": []
    },
    {
      "cell_type": "code",
      "source": [
        "y_train=train_data_regres['sold_price'].to_numpy().astype('float')"
      ],
      "metadata": {
        "id": "RA3YjDtTM_hr"
      },
      "execution_count": 105,
      "outputs": []
    },
    {
      "cell_type": "code",
      "source": [
        "y_test=test_data_regres['sold_price'].to_numpy().astype('float')"
      ],
      "metadata": {
        "id": "3xccrE9iN368"
      },
      "execution_count": 106,
      "outputs": []
    },
    {
      "cell_type": "code",
      "source": [
        "knnr = KNNRegressor()\n",
        "knnr.fit(X_regres_train,y_train)"
      ],
      "metadata": {
        "id": "vGVX3HbkdAnA"
      },
      "execution_count": 107,
      "outputs": []
    },
    {
      "cell_type": "code",
      "source": [
        "# X_regres_train = X_regres_train.reshape(-1, 1)\n",
        "y_hat_knn_regr_train=knnr.predict(X_regres_train,1)"
      ],
      "metadata": {
        "id": "JTvNvRl8djIv"
      },
      "execution_count": 108,
      "outputs": []
    },
    {
      "cell_type": "code",
      "source": [
        "def mae(y_true, y_pred):\n",
        "    return np.mean(np.abs(y_true - y_pred))"
      ],
      "metadata": {
        "id": "1iQ2fDJO9Mqw"
      },
      "execution_count": 109,
      "outputs": []
    },
    {
      "cell_type": "code",
      "source": [
        "def mse(y_true, y_pred):\n",
        "    return np.mean((y_true - y_pred) ** 2)"
      ],
      "metadata": {
        "id": "pNMdze3U9P-l"
      },
      "execution_count": 110,
      "outputs": []
    },
    {
      "cell_type": "code",
      "source": [
        "mae(y_train, y_hat_knn_regr_train),mse(y_train, y_hat_knn_regr_train)"
      ],
      "metadata": {
        "colab": {
          "base_uri": "https://localhost:8080/"
        },
        "id": "lS6-fQ9kO3ZK",
        "outputId": "d6b3457f-f2bb-4588-8a19-285862847239"
      },
      "execution_count": 111,
      "outputs": [
        {
          "output_type": "execute_result",
          "data": {
            "text/plain": [
              "(1310.2973979569838, 127459068.77489702)"
            ]
          },
          "metadata": {},
          "execution_count": 111
        }
      ]
    },
    {
      "cell_type": "code",
      "source": [
        "y_hat_knn_regr_test=knnr.predict(X_regres_test, 1)"
      ],
      "metadata": {
        "id": "fJIpKQLjPFbO"
      },
      "execution_count": 112,
      "outputs": []
    },
    {
      "cell_type": "code",
      "source": [
        "mae(y_test, y_hat_knn_regr_test),mse(y_train, y_hat_knn_regr_train)"
      ],
      "metadata": {
        "colab": {
          "base_uri": "https://localhost:8080/"
        },
        "id": "PLZR3UYgPNJ5",
        "outputId": "6c943159-d136-4a6f-cc7b-3d7623970ba6"
      },
      "execution_count": 85,
      "outputs": [
        {
          "output_type": "execute_result",
          "data": {
            "text/plain": [
              "(440425.05972719414, 127459068.77489702)"
            ]
          },
          "metadata": {},
          "execution_count": 85
        }
      ]
    },
    {
      "cell_type": "code",
      "source": [
        "# y_hat_knn_regr_test = knnr.predict(X_regres_test,1)"
      ],
      "metadata": {
        "id": "m5xZ-FLb8N4Z"
      },
      "execution_count": 62,
      "outputs": []
    },
    {
      "cell_type": "code",
      "source": [
        "def OLS(Y,Y_hat, N):\n",
        "  return ((1/(2*N))*np.sum((Y-Y_hat)**2))"
      ],
      "metadata": {
        "id": "UL-mzCqfnrE_"
      },
      "execution_count": 113,
      "outputs": []
    },
    {
      "cell_type": "code",
      "source": [
        "OLS(test_data_regres['Price_Bin'], y_hat_knn_regr_test,1500)"
      ],
      "metadata": {
        "colab": {
          "base_uri": "https://localhost:8080/"
        },
        "id": "cfror3-6nvJk",
        "outputId": "065db3d0-6662-4f7f-f7d0-04d68086e46a"
      },
      "execution_count": 114,
      "outputs": [
        {
          "output_type": "execute_result",
          "data": {
            "text/plain": [
              "33957420860.7234"
            ]
          },
          "metadata": {},
          "execution_count": 114
        }
      ]
    },
    {
      "cell_type": "code",
      "source": [
        "class MVLinearRegression():\n",
        "\n",
        "    def fit(self, X, y, eta=1e-3, epochs=1e3, show_curve=False):\n",
        "        epochs = int(epochs)\n",
        "\n",
        "\n",
        "        X = (X - X.mean(axis=0)) / X.std(axis=0)\n",
        "\n",
        "        X = X.astype(np.float64)\n",
        "        y = y.astype(np.float64)\n",
        "        N, D = X.shape\n",
        "        Y = y\n",
        "\n",
        "        #Begin SGD Optimization\n",
        "        self.W = np.random.randn(D)\n",
        "        self.J = np.zeros(epochs)\n",
        "        max_clip = 1e100\n",
        "\n",
        "        # Stochastic Gradient Descent Progression\n",
        "        for epoch in range(epochs):\n",
        "            Y_hat = self.predict(X)\n",
        "            self.J[epoch] = OLS(Y, Y_hat, N)\n",
        "\n",
        "\n",
        "            # Weight Update Rule with clipping for numerical stability\n",
        "            gradient = (1/N) * (X.T @ (Y_hat - Y))\n",
        "            self.W -= eta * gradient\n",
        "\n",
        "        if show_curve:\n",
        "            plt.figure()\n",
        "            plt.plot(self.J)\n",
        "            plt.xlabel(\"epochs\")\n",
        "            plt.ylabel(\"$\\mathcal{J}$\")\n",
        "            plt.title(\"Curve\")\n",
        "            plt.show()\n",
        "\n",
        "    def predict(self, X):\n",
        "        return X @ self.W\n",
        "\n"
      ],
      "metadata": {
        "id": "CtCMxbdv9DrX"
      },
      "execution_count": 115,
      "outputs": []
    },
    {
      "cell_type": "code",
      "source": [
        "# #X_train_mvlr = train_data_regres[['latitude', 'longitude', 'Number of Rooms','Floor_Sum', 'Kitchen_Sum','House_Age']].apply(pd.to_numeric, errors='coerce').fillna(train_data_regres[['latitude', 'longitude', 'Number of Rooms','Floor_Sum', 'Kitchen_Sum']].median()).to_numpy().astype('int64')\n",
        "# y_train_mvlr = train_data_regres['Price_Bin'].to_numpy().astype('int64')\n",
        "\n",
        "# X_train_mvlr = train_data_regres[['Number of Rooms','Floor_Sum', 'Kitchen_Sum','House_Age']].apply(pd.to_numeric, errors='coerce').fillna(train_data_regres[['latitude', 'longitude', 'Number of Rooms','Floor_Sum', 'Kitchen_Sum']].median()).to_numpy().astype('int64')\n",
        "\n"
      ],
      "metadata": {
        "id": "HXg_wa93_BGY"
      },
      "execution_count": 70,
      "outputs": []
    },
    {
      "cell_type": "code",
      "source": [
        "# #X_test_mvlr = test_data_regres[['latitude', 'longitude', 'Number of Rooms','Floor_Sum', 'Kitchen_Sum','House_Age']].apply(pd.to_numeric, errors='coerce').fillna(test_data_regres[['latitude', 'longitude', 'Number of Rooms','Floor_Sum', 'Kitchen_Sum']].median()).to_numpy().astype('int64')\n",
        "# y_test_mvlr = test_data_regres['Price_Bin'].fillna(test_data_regres['Price_Bin'].median()).to_numpy().astype('int64')\n",
        "\n",
        "# X_test_mvlr = test_data_regres[['Number of Rooms','Floor_Sum', 'Kitchen_Sum','House_Age']].apply(pd.to_numeric, errors='coerce').fillna(test_data_regres[['latitude', 'longitude', 'Number of Rooms','Floor_Sum', 'Kitchen_Sum']].median()).to_numpy().astype('int64')\n"
      ],
      "metadata": {
        "id": "p2NqSrrobLep"
      },
      "execution_count": null,
      "outputs": []
    },
    {
      "cell_type": "code",
      "source": [
        "mvlr = MVLinearRegression()\n",
        "mvlr.fit(X_regres_train, y_train, eta=8e-3, epochs=900, show_curve=True)"
      ],
      "metadata": {
        "colab": {
          "base_uri": "https://localhost:8080/",
          "height": 472
        },
        "id": "fpfuMdzy-473",
        "outputId": "8f5294ee-9a74-4444-8828-a2912e615648"
      },
      "execution_count": 116,
      "outputs": [
        {
          "output_type": "display_data",
          "data": {
            "text/plain": [
              "<Figure size 640x480 with 1 Axes>"
            ],
            "image/png": "[encoded data removed]"
          },
          "metadata": {}
        }
      ]
    },
    {
      "cell_type": "code",
      "source": [
        "y_hat_mvlr_regres_train=mvlr.predict(X_regres_train)"
      ],
      "metadata": {
        "id": "5vSCmtqcSd1x"
      },
      "execution_count": 117,
      "outputs": []
    },
    {
      "cell_type": "code",
      "source": [
        "y_hat_mvlr_regres_test=mvlr.predict(X_regres_test)"
      ],
      "metadata": {
        "id": "F6XpWTRLTvZz"
      },
      "execution_count": 118,
      "outputs": []
    },
    {
      "cell_type": "code",
      "source": [
        "print(\"MAE:\", mae(y_train, y_hat_mvlr_regres_train))\n",
        "print(\"MSE:\", mse(y_train, y_hat_mvlr_regres_train))"
      ],
      "metadata": {
        "colab": {
          "base_uri": "https://localhost:8080/"
        },
        "id": "3I6BxjhzPcYn",
        "outputId": "93364683-8a78-4734-9e50-feacfc5ebefe"
      },
      "execution_count": 119,
      "outputs": [
        {
          "output_type": "stream",
          "name": "stdout",
          "text": [
            "MAE: 43789553.85179103\n",
            "MSE: 2107694605876740.0\n"
          ]
        }
      ]
    },
    {
      "cell_type": "code",
      "source": [
        "print(\"MAE:\", mae(y_test, y_hat_mvlr_regres_test))\n",
        "print(\"MSE:\", mse(y_test, y_hat_mvlr_regres_test))"
      ],
      "metadata": {
        "colab": {
          "base_uri": "https://localhost:8080/"
        },
        "id": "K90mXdsIWPO-",
        "outputId": "0292189f-6d3f-488a-ffc7-547dd63501bc"
      },
      "execution_count": 120,
      "outputs": [
        {
          "output_type": "stream",
          "name": "stdout",
          "text": [
            "MAE: 42450822.91316929\n",
            "MSE: 1925257341457515.8\n"
          ]
        }
      ]
    },
    {
      "cell_type": "markdown",
      "source": [
        "#Demo"
      ],
      "metadata": {
        "id": "7QCbi6VpUNV4"
      }
    },
    {
      "cell_type": "code",
      "source": [
        "X_demo_latlong = np.array([[-112.520168\t, 31.356362]])\n",
        "X_demo_latlong"
      ],
      "metadata": {
        "colab": {
          "base_uri": "https://localhost:8080/"
        },
        "id": "aZQHjEkDTpqL",
        "outputId": "a06fed1e-a982-4515-a04b-62835ca279be"
      },
      "execution_count": 121,
      "outputs": [
        {
          "output_type": "execute_result",
          "data": {
            "text/plain": [
              "array([[-112.520168,   31.356362]])"
            ]
          },
          "metadata": {},
          "execution_count": 121
        }
      ]
    },
    {
      "cell_type": "code",
      "source": [
        "X_demo = np.array([[5, 2154 , 5 , 6 , 15]])\n",
        "X_demo"
      ],
      "metadata": {
        "colab": {
          "base_uri": "https://localhost:8080/"
        },
        "id": "YtkOp4_YUVuf",
        "outputId": "1ceb2277-ffc7-4075-d4dc-1e508ce869cb"
      },
      "execution_count": 128,
      "outputs": [
        {
          "output_type": "execute_result",
          "data": {
            "text/plain": [
              "array([[   5, 2154,    5,    6,   15]])"
            ]
          },
          "metadata": {},
          "execution_count": 128
        }
      ]
    },
    {
      "cell_type": "code",
      "source": [
        "y_hat_knn_demo = KNNclassifiermodel.predict(X_demo_latlong, K=5)\n",
        "y_hat_knn_demo\n"
      ],
      "metadata": {
        "colab": {
          "base_uri": "https://localhost:8080/"
        },
        "id": "WiUV5ngUUXXE",
        "outputId": "00da3097-c713-4146-9847-d60bc30dcf87"
      },
      "execution_count": 129,
      "outputs": [
        {
          "output_type": "execute_result",
          "data": {
            "text/plain": [
              "array([1.])"
            ]
          },
          "metadata": {},
          "execution_count": 129
        }
      ]
    },
    {
      "cell_type": "code",
      "source": [
        "combined = np.hstack((y_hat_knn_demo.reshape(1, 1), X_demo))\n",
        "combined"
      ],
      "metadata": {
        "colab": {
          "base_uri": "https://localhost:8080/"
        },
        "id": "K6_vMnPUV-mG",
        "outputId": "2b6d999f-56cb-4823-a35b-49922f8f2370"
      },
      "execution_count": 131,
      "outputs": [
        {
          "output_type": "execute_result",
          "data": {
            "text/plain": [
              "array([[1.000e+00, 5.000e+00, 2.154e+03, 5.000e+00, 6.000e+00, 1.500e+01]])"
            ]
          },
          "metadata": {},
          "execution_count": 131
        }
      ]
    },
    {
      "cell_type": "code",
      "source": [
        "y_hat_test_demo = knnr.predict(combined, 8)\n",
        "y_hat_test_demo"
      ],
      "metadata": {
        "colab": {
          "base_uri": "https://localhost:8080/"
        },
        "id": "FKxVPwIDUoRo",
        "outputId": "ce01b7d6-05af-47a4-9478-278034b475b5"
      },
      "execution_count": 132,
      "outputs": [
        {
          "output_type": "execute_result",
          "data": {
            "text/plain": [
              "array([0.])"
            ]
          },
          "metadata": {},
          "execution_count": 132
        }
      ]
    },
    {
      "cell_type": "code",
      "source": [
        "y_hat_train_demo = mvlr.predict(combined)\n",
        "y_hat_train_demo"
      ],
      "metadata": {
        "colab": {
          "base_uri": "https://localhost:8080/"
        },
        "id": "EhFey-LcVDA2",
        "outputId": "1aac89bf-fb2e-4b67-bbef-22df4acd7279"
      },
      "execution_count": 133,
      "outputs": [
        {
          "output_type": "execute_result",
          "data": {
            "text/plain": [
              "array([63435276.71014841])"
            ]
          },
          "metadata": {},
          "execution_count": 133
        }
      ]
    }
  ]
}